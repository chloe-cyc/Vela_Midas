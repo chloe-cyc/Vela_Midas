{
  "nbformat": 4,
  "nbformat_minor": 0,
  "metadata": {
    "colab": {
      "provenance": [],
      "collapsed_sections": [
        "zLwWejPqyGKj"
      ],
      "authorship_tag": "ABX9TyO5weaFK+Zy+QHSZLCh3muP",
      "include_colab_link": true
    },
    "kernelspec": {
      "name": "python3",
      "display_name": "Python 3"
    },
    "language_info": {
      "name": "python"
    }
  },
  "cells": [
    {
      "cell_type": "markdown",
      "metadata": {
        "id": "view-in-github",
        "colab_type": "text"
      },
      "source": [
        "<a href=\"https://colab.research.google.com/github/chloe-cyc/Vela_Midas/blob/main/Vela_Twitter_Midas.ipynb\" target=\"_parent\"><img src=\"https://colab.research.google.com/assets/colab-badge.svg\" alt=\"Open In Colab\"/></a>"
      ]
    },
    {
      "cell_type": "code",
      "source": [
        "! gdown --id 1RxZ5v12NINAPM2gBvOinOmVWhkipvkHJ"
      ],
      "metadata": {
        "colab": {
          "base_uri": "https://localhost:8080/"
        },
        "id": "oHlVOumDSqaH",
        "outputId": "fe60d477-6571-4157-9f1f-e74e21186284"
      },
      "execution_count": 2,
      "outputs": [
        {
          "output_type": "stream",
          "name": "stdout",
          "text": [
            "/usr/local/lib/python3.9/dist-packages/gdown/cli.py:121: FutureWarning: Option `--id` was deprecated in version 4.3.1 and will be removed in 5.0. You don't need to pass it anymore to use a file ID.\n",
            "  warnings.warn(\n",
            "Downloading...\n",
            "From: https://drive.google.com/uc?id=1RxZ5v12NINAPM2gBvOinOmVWhkipvkHJ\n",
            "To: /content/Twitter Likes.csv\n",
            "100% 8.96M/8.96M [00:00<00:00, 79.9MB/s]\n"
          ]
        }
      ]
    },
    {
      "cell_type": "code",
      "source": [
        "! gdown --id 1T8NkcfzqiN0R33GSQXEh9eaMbFBU1_9D"
      ],
      "metadata": {
        "colab": {
          "base_uri": "https://localhost:8080/"
        },
        "id": "PBOPKtDeSqSl",
        "outputId": "2ed1b0be-d775-44db-8f0f-8cc05ca18c7a"
      },
      "execution_count": 3,
      "outputs": [
        {
          "output_type": "stream",
          "name": "stdout",
          "text": [
            "/usr/local/lib/python3.9/dist-packages/gdown/cli.py:121: FutureWarning: Option `--id` was deprecated in version 4.3.1 and will be removed in 5.0. You don't need to pass it anymore to use a file ID.\n",
            "  warnings.warn(\n",
            "Downloading...\n",
            "From: https://drive.google.com/uc?id=1T8NkcfzqiN0R33GSQXEh9eaMbFBU1_9D\n",
            "To: /content/Twitter comments.csv\n",
            "100% 3.19M/3.19M [00:00<00:00, 137MB/s]\n"
          ]
        }
      ]
    },
    {
      "cell_type": "code",
      "execution_count": 4,
      "metadata": {
        "id": "Qz_OO_WxQOha"
      },
      "outputs": [],
      "source": [
        "#Import Packages\n",
        "import pandas as pd\n",
        "import numpy as np\n",
        "import time\n",
        "import matplotlib.pyplot as plt\n",
        "import seaborn as sns\n",
        "import datetime #bi\n",
        "\n",
        "pd.options.mode.chained_assignment = None"
      ]
    },
    {
      "cell_type": "markdown",
      "source": [
        "# **Liked Users Dataset**"
      ],
      "metadata": {
        "id": "qlFs879EoyK7"
      }
    },
    {
      "cell_type": "code",
      "source": [
        "likes = pd.read_csv(\"Twitter Likes.csv\")\n",
        "likes = likes.drop_duplicates()\n",
        "#midas[\"round_order\"] = midas.round_name.map(round_order)\n",
        "likes.head()"
      ],
      "metadata": {
        "id": "WXkpf6s4QUey",
        "colab": {
          "base_uri": "https://localhost:8080/",
          "height": 206
        },
        "outputId": "62cf97bf-1a93-47d2-da01-86d9a643b217"
      },
      "execution_count": 5,
      "outputs": [
        {
          "output_type": "execute_result",
          "data": {
            "text/plain": [
              "   investor_name   organization       investor     liked_user  count\n",
              "0  Ryan McIntyre  Foundry Group  ryan_mcintyre    chrismichel    153\n",
              "1  Ryan McIntyre  Foundry Group  ryan_mcintyre      yoavlurie    153\n",
              "2  Ryan McIntyre  Foundry Group  ryan_mcintyre  Rainmaker1973     84\n",
              "3  Ryan McIntyre  Foundry Group  ryan_mcintyre         KatieS     41\n",
              "4  Ryan McIntyre  Foundry Group  ryan_mcintyre             km     33"
            ],
            "text/html": [
              "\n",
              "  <div id=\"df-b6eba7bb-eddf-4834-b0e5-8012cebc957e\">\n",
              "    <div class=\"colab-df-container\">\n",
              "      <div>\n",
              "<style scoped>\n",
              "    .dataframe tbody tr th:only-of-type {\n",
              "        vertical-align: middle;\n",
              "    }\n",
              "\n",
              "    .dataframe tbody tr th {\n",
              "        vertical-align: top;\n",
              "    }\n",
              "\n",
              "    .dataframe thead th {\n",
              "        text-align: right;\n",
              "    }\n",
              "</style>\n",
              "<table border=\"1\" class=\"dataframe\">\n",
              "  <thead>\n",
              "    <tr style=\"text-align: right;\">\n",
              "      <th></th>\n",
              "      <th>investor_name</th>\n",
              "      <th>organization</th>\n",
              "      <th>investor</th>\n",
              "      <th>liked_user</th>\n",
              "      <th>count</th>\n",
              "    </tr>\n",
              "  </thead>\n",
              "  <tbody>\n",
              "    <tr>\n",
              "      <th>0</th>\n",
              "      <td>Ryan McIntyre</td>\n",
              "      <td>Foundry Group</td>\n",
              "      <td>ryan_mcintyre</td>\n",
              "      <td>chrismichel</td>\n",
              "      <td>153</td>\n",
              "    </tr>\n",
              "    <tr>\n",
              "      <th>1</th>\n",
              "      <td>Ryan McIntyre</td>\n",
              "      <td>Foundry Group</td>\n",
              "      <td>ryan_mcintyre</td>\n",
              "      <td>yoavlurie</td>\n",
              "      <td>153</td>\n",
              "    </tr>\n",
              "    <tr>\n",
              "      <th>2</th>\n",
              "      <td>Ryan McIntyre</td>\n",
              "      <td>Foundry Group</td>\n",
              "      <td>ryan_mcintyre</td>\n",
              "      <td>Rainmaker1973</td>\n",
              "      <td>84</td>\n",
              "    </tr>\n",
              "    <tr>\n",
              "      <th>3</th>\n",
              "      <td>Ryan McIntyre</td>\n",
              "      <td>Foundry Group</td>\n",
              "      <td>ryan_mcintyre</td>\n",
              "      <td>KatieS</td>\n",
              "      <td>41</td>\n",
              "    </tr>\n",
              "    <tr>\n",
              "      <th>4</th>\n",
              "      <td>Ryan McIntyre</td>\n",
              "      <td>Foundry Group</td>\n",
              "      <td>ryan_mcintyre</td>\n",
              "      <td>km</td>\n",
              "      <td>33</td>\n",
              "    </tr>\n",
              "  </tbody>\n",
              "</table>\n",
              "</div>\n",
              "      <button class=\"colab-df-convert\" onclick=\"convertToInteractive('df-b6eba7bb-eddf-4834-b0e5-8012cebc957e')\"\n",
              "              title=\"Convert this dataframe to an interactive table.\"\n",
              "              style=\"display:none;\">\n",
              "        \n",
              "  <svg xmlns=\"http://www.w3.org/2000/svg\" height=\"24px\"viewBox=\"0 0 24 24\"\n",
              "       width=\"24px\">\n",
              "    <path d=\"M0 0h24v24H0V0z\" fill=\"none\"/>\n",
              "    <path d=\"M18.56 5.44l.94 2.06.94-2.06 2.06-.94-2.06-.94-.94-2.06-.94 2.06-2.06.94zm-11 1L8.5 8.5l.94-2.06 2.06-.94-2.06-.94L8.5 2.5l-.94 2.06-2.06.94zm10 10l.94 2.06.94-2.06 2.06-.94-2.06-.94-.94-2.06-.94 2.06-2.06.94z\"/><path d=\"M17.41 7.96l-1.37-1.37c-.4-.4-.92-.59-1.43-.59-.52 0-1.04.2-1.43.59L10.3 9.45l-7.72 7.72c-.78.78-.78 2.05 0 2.83L4 21.41c.39.39.9.59 1.41.59.51 0 1.02-.2 1.41-.59l7.78-7.78 2.81-2.81c.8-.78.8-2.07 0-2.86zM5.41 20L4 18.59l7.72-7.72 1.47 1.35L5.41 20z\"/>\n",
              "  </svg>\n",
              "      </button>\n",
              "      \n",
              "  <style>\n",
              "    .colab-df-container {\n",
              "      display:flex;\n",
              "      flex-wrap:wrap;\n",
              "      gap: 12px;\n",
              "    }\n",
              "\n",
              "    .colab-df-convert {\n",
              "      background-color: #E8F0FE;\n",
              "      border: none;\n",
              "      border-radius: 50%;\n",
              "      cursor: pointer;\n",
              "      display: none;\n",
              "      fill: #1967D2;\n",
              "      height: 32px;\n",
              "      padding: 0 0 0 0;\n",
              "      width: 32px;\n",
              "    }\n",
              "\n",
              "    .colab-df-convert:hover {\n",
              "      background-color: #E2EBFA;\n",
              "      box-shadow: 0px 1px 2px rgba(60, 64, 67, 0.3), 0px 1px 3px 1px rgba(60, 64, 67, 0.15);\n",
              "      fill: #174EA6;\n",
              "    }\n",
              "\n",
              "    [theme=dark] .colab-df-convert {\n",
              "      background-color: #3B4455;\n",
              "      fill: #D2E3FC;\n",
              "    }\n",
              "\n",
              "    [theme=dark] .colab-df-convert:hover {\n",
              "      background-color: #434B5C;\n",
              "      box-shadow: 0px 1px 3px 1px rgba(0, 0, 0, 0.15);\n",
              "      filter: drop-shadow(0px 1px 2px rgba(0, 0, 0, 0.3));\n",
              "      fill: #FFFFFF;\n",
              "    }\n",
              "  </style>\n",
              "\n",
              "      <script>\n",
              "        const buttonEl =\n",
              "          document.querySelector('#df-b6eba7bb-eddf-4834-b0e5-8012cebc957e button.colab-df-convert');\n",
              "        buttonEl.style.display =\n",
              "          google.colab.kernel.accessAllowed ? 'block' : 'none';\n",
              "\n",
              "        async function convertToInteractive(key) {\n",
              "          const element = document.querySelector('#df-b6eba7bb-eddf-4834-b0e5-8012cebc957e');\n",
              "          const dataTable =\n",
              "            await google.colab.kernel.invokeFunction('convertToInteractive',\n",
              "                                                     [key], {});\n",
              "          if (!dataTable) return;\n",
              "\n",
              "          const docLinkHtml = 'Like what you see? Visit the ' +\n",
              "            '<a target=\"_blank\" href=https://colab.research.google.com/notebooks/data_table.ipynb>data table notebook</a>'\n",
              "            + ' to learn more about interactive tables.';\n",
              "          element.innerHTML = '';\n",
              "          dataTable['output_type'] = 'display_data';\n",
              "          await google.colab.output.renderOutput(dataTable, element);\n",
              "          const docLink = document.createElement('div');\n",
              "          docLink.innerHTML = docLinkHtml;\n",
              "          element.appendChild(docLink);\n",
              "        }\n",
              "      </script>\n",
              "    </div>\n",
              "  </div>\n",
              "  "
            ]
          },
          "metadata": {},
          "execution_count": 5
        }
      ]
    },
    {
      "cell_type": "code",
      "source": [
        "likes.liked_user.value_counts().shape"
      ],
      "metadata": {
        "colab": {
          "base_uri": "https://localhost:8080/"
        },
        "id": "6LHW5-EoUfoQ",
        "outputId": "f671e6ee-944f-4d39-b711-565968de0ec1"
      },
      "execution_count": 6,
      "outputs": [
        {
          "output_type": "execute_result",
          "data": {
            "text/plain": [
              "(75737,)"
            ]
          },
          "metadata": {},
          "execution_count": 6
        }
      ]
    },
    {
      "cell_type": "code",
      "source": [
        "likes.investor.value_counts().shape"
      ],
      "metadata": {
        "colab": {
          "base_uri": "https://localhost:8080/"
        },
        "id": "G-XqNMtIoPMN",
        "outputId": "ab84129f-01f4-401d-d9c3-3378ece60711"
      },
      "execution_count": 7,
      "outputs": [
        {
          "output_type": "execute_result",
          "data": {
            "text/plain": [
              "(319,)"
            ]
          },
          "metadata": {},
          "execution_count": 7
        }
      ]
    },
    {
      "cell_type": "code",
      "source": [
        "likes.organization.value_counts().shape"
      ],
      "metadata": {
        "colab": {
          "base_uri": "https://localhost:8080/"
        },
        "id": "e0b2xc4OThWl",
        "outputId": "3a0d7ac2-cc5f-450d-c111-b90b1a82988b"
      },
      "execution_count": 8,
      "outputs": [
        {
          "output_type": "execute_result",
          "data": {
            "text/plain": [
              "(27,)"
            ]
          },
          "metadata": {},
          "execution_count": 8
        }
      ]
    },
    {
      "cell_type": "code",
      "source": [
        "unique_investors_list = likes.investor.unique()\n",
        "unique_liked_users_list = likes.liked_user.unique()\n",
        "print(len(set(unique_liked_users_list)&set(unique_investors_list)))"
      ],
      "metadata": {
        "colab": {
          "base_uri": "https://localhost:8080/"
        },
        "id": "nqippDQQosPV",
        "outputId": "6a20f01c-60f7-4116-add4-e554bdc9a391"
      },
      "execution_count": 9,
      "outputs": [
        {
          "output_type": "stream",
          "name": "stdout",
          "text": [
            "267\n"
          ]
        }
      ]
    },
    {
      "cell_type": "code",
      "source": [
        "sum(likes.liked_user.value_counts() >= 50)"
      ],
      "metadata": {
        "colab": {
          "base_uri": "https://localhost:8080/"
        },
        "id": "ZZgLnEkgtrjV",
        "outputId": "f71c1b91-1b32-4b2a-d0be-bf621f3ebb35"
      },
      "execution_count": 10,
      "outputs": [
        {
          "output_type": "execute_result",
          "data": {
            "text/plain": [
              "170"
            ]
          },
          "metadata": {},
          "execution_count": 10
        }
      ]
    },
    {
      "cell_type": "markdown",
      "source": [
        "# __Comments Dataset__"
      ],
      "metadata": {
        "id": "zLwWejPqyGKj"
      }
    },
    {
      "cell_type": "code",
      "source": [
        "comments = pd.read_csv(\"Twitter comments.csv\")\n",
        "comments = comments.drop_duplicates()\n",
        "comments.shape"
      ],
      "metadata": {
        "colab": {
          "base_uri": "https://localhost:8080/"
        },
        "id": "n4iu_3Yky_u1",
        "outputId": "14c74647-641e-41b9-ff53-9c14dd9c8916"
      },
      "execution_count": 11,
      "outputs": [
        {
          "output_type": "execute_result",
          "data": {
            "text/plain": [
              "(60291, 5)"
            ]
          },
          "metadata": {},
          "execution_count": 11
        }
      ]
    },
    {
      "cell_type": "code",
      "source": [
        "#Data Exploring\n",
        "comments.investor.value_counts().shape"
      ],
      "metadata": {
        "colab": {
          "base_uri": "https://localhost:8080/"
        },
        "outputId": "6d6e7523-5c8d-4338-86d5-a781acb3a507",
        "id": "4dImgQ8N0eAa"
      },
      "execution_count": 12,
      "outputs": [
        {
          "output_type": "execute_result",
          "data": {
            "text/plain": [
              "(320,)"
            ]
          },
          "metadata": {},
          "execution_count": 12
        }
      ]
    },
    {
      "cell_type": "code",
      "source": [
        "comments.organization.value_counts().shape"
      ],
      "metadata": {
        "colab": {
          "base_uri": "https://localhost:8080/"
        },
        "outputId": "9b84ddf0-6d1d-4ab8-da1f-2bdd0ecbfed5",
        "id": "PLvl5tCn0eAh"
      },
      "execution_count": 13,
      "outputs": [
        {
          "output_type": "execute_result",
          "data": {
            "text/plain": [
              "(27,)"
            ]
          },
          "metadata": {},
          "execution_count": 13
        }
      ]
    },
    {
      "cell_type": "code",
      "source": [
        "comments.commented_user.value_counts().shape"
      ],
      "metadata": {
        "colab": {
          "base_uri": "https://localhost:8080/"
        },
        "outputId": "04e0db9e-5611-465d-a7db-df78b3e0ef40",
        "id": "-e8vZkqc0eAl"
      },
      "execution_count": 14,
      "outputs": [
        {
          "output_type": "execute_result",
          "data": {
            "text/plain": [
              "(33797,)"
            ]
          },
          "metadata": {},
          "execution_count": 14
        }
      ]
    },
    {
      "cell_type": "code",
      "source": [
        "unique_investors_list_comments = comments.investor.unique()\n",
        "print(unique_investors_list_comments)\n",
        "unique_liked_users_list_comments = comments.commented_user.unique()\n",
        "print(len(set(unique_liked_users_list_comments)&set(unique_investors_list_comments)))"
      ],
      "metadata": {
        "colab": {
          "base_uri": "https://localhost:8080/"
        },
        "outputId": "30d815df-367a-46d9-844b-d2f111794f46",
        "id": "CkoRHxZu0eAp"
      },
      "execution_count": 15,
      "outputs": [
        {
          "output_type": "stream",
          "name": "stdout",
          "text": [
            "['ryan_mcintyre' 'JayRughani' 'jfbuss' 'KenHowery' 'vintweeta'\n",
            " 'jewel3point14' 'davidu' 'schwark' 'ryanjsweeney' 'smc90' 'venturetwins'\n",
            " 'amitku' 'larry_y' 'astrange' 'deenashakir' 'garcegarce' 'mcmiller00'\n",
            " 'moradelhafed' 'anniecase1' 'AndrewOmori' 'chrismoodycom'\n",
            " 'anoushkavaswani' 'simonrothman' 'bad2thesloane' 'znoorani' 'reidhoffman'\n",
            " 'puneet324' 'stephzhan' 'houman81' 'reidRMC' 'ScottDSandell' 'cdixon'\n",
            " 'chrisfralic' 'jhroth55' 'ericvishria' 'JOHNOFA' 'msaintil' 'devdutt'\n",
            " 'bipulsinha' 'ericbthomas' 'kelly_kinnard' 'milesgrimshaw' 'mdgarratt'\n",
            " 'davidbelden' 'jerrychen' 'ElisaSchreiber' 'sraney' 'sarahtavel'\n",
            " 'HollyRoseFaith' 'davthack' 'arampell' 'maxgazor' 'Machiz' 'BradUSV'\n",
            " 'AbhinavC' 'KanuGulati' 'StevoLoughlin' 'npilosof' 'svenkatachalam'\n",
            " 'shawnvc' 'acvox' 'jesslivingston' 'ali01' 'adriancolyer' 'wolfejosh'\n",
            " 'sdianahu' 'gralston' 'joannezchen' 'johndoerr' 'bgurley' 'breckard'\n",
            " 'gwertz' 'LucianaLix' 'badboyboyce' 'fredwilson' 'akalokerinos'\n",
            " '_AnandDaniel' 'ammathew' 'jpsanday' 'Farshchi' 'kaychen22'\n",
            " 'peter_lauten' 'mamoonha' 'brettberson' 'mvernal' 'BigMekaStyle'\n",
            " 'mkhandel' 'tjack' 'abenik' 'zanelackey' 'bhorowitz' 'martincgibson'\n",
            " 'albertwenger' 'angusdav' 'msiegel11' 'chetanp' 'obes00' 'rickyang'\n",
            " 'georgezachary' 'sriramk' 'gloriatlau' 'BarryEggers' 'buckhouse' 'veen'\n",
            " 'cmoldow' 'kbakes' 'mwseibel' 'ktmboyle' 'ashugarg' 'paulg' 'andy23tran'\n",
            " 'josh_coyne' 'kevinrose' 'biad_anas' 'withfries2' 'jmover' 'prayanks'\n",
            " 'altecremedy' 'rbatra' 'EverettRandle' 'radarkc' 'vas' 'tonysphere'\n",
            " 'mitchlasky' 'satishtalluri' 'crazyfoo' 'armenvidian' 'BogieBalkansky'\n",
            " 'dannieherz' 'arifj' 'nolimits' 'mayanoeth' 'gradypb' 'aaronej'\n",
            " 'cboshuizen' 'spencerpunter' 'mustafasuleymn' 'v1p1n' 'byunso' 'gustaf'\n",
            " 'pnakache' 'MeredithKendall' 'zackbogue' 'JeffStump' 'nik_quinn' 'gustai'\n",
            " 'saarsaar' 'OckenE' 'miyer' 'jcal7' 'pmarca' 'bradflora' 'neerajvc'\n",
            " 'peterfenton' 'Jormont1978' 'julesyoo' 'michellebailhe' 'ascohen'\n",
            " 'niparko' 'andrewaschoen' 'shaunmmaguire' 'mercebent' 'rishigarg'\n",
            " 'veelarco' 'mtrevithick' 'wendyyale' 'annarchyy' 'saranormous' 'dhaber'\n",
            " 'bradikern' 'aweissman' 'dougleone' 'annimaniac' 'aaron_epstein'\n",
            " 'mor_rob' 'mrogati' 'abatalion' 'psonsini' 'jorgecondebio' 'ai'\n",
            " 'amytongwu' 'dtabors' 'izhararmony' 'algovc' 'TalMorgenstern' 'ilyaf'\n",
            " 'jesskah' 'AmitMukherjee' 'MelissaTaunton' 'wennmachers' 'illscience'\n",
            " 'jerryye' 'andrewchen' 'joubinmir' 'vijaypande' 'fifaifofo'\n",
            " 'W_ScottWeiss' 'rsarver' 'eringrody' 'johnolilly' 'vassallo'\n",
            " 'carol_gallagher' 'conniechan' 'AjayChopra' 'ireneau' 'nickgrossman'\n",
            " 'paulbz' 'anandc' 'sether' 'barathshankar' 'rwong' 'ataussig' 'arvndgpta'\n",
            " 'robhayes' 'adaugelli' 'om' 'Alfred_Lin' 'rabois' 'samdblond'\n",
            " 'genomicsdoc' 'briansin' 'akad' 'ping_accel' 'guruchahal' 'briankasser'\n",
            " 'clarkematter' 'skirani' 'venkyganesan' 'mkclements' 'snowmaker'\n",
            " 'carl_eschenbach' 'paultoo' 'skupor' 'mmurph' 'mikekirkwood'\n",
            " 'simoncrosby' 'chendave' 'schreier' 'gauravgram' 'hayleybay'\n",
            " 'donutsdidthis' 'kfreed' 'saammotamedi' 'whoisnnamdi' 'dychen3'\n",
            " 'zavaindar' 'caseyaylward' 'cjc' 'btrenchard' 'grgyap' 'scottnolan'\n",
            " 'moorski' 'jamesgreen2016' 'jay_drainjr' 'prashanthp' 'merci' 'herrod'\n",
            " 'daltonc' 'jasonmok' 'kshenster' 'andrew__reed' 'm2jr' 'ariannasimpson'\n",
            " 'nicole__north' 'martin_casado' 'hollyhliu' 'mduboe' 'lightspeedvp'\n",
            " 'jadelai__' 'jgauerbach' 'katecbarrett' 'alitamaseb' 'buckymoore'\n",
            " 'hnelis' 'ldeakman' 'jfreester' 'max_rimpel' 'AnsafK' 'ansanelli'\n",
            " 'traestephens' 'chandna' 'daniel_levine' 'jeremysliew' 'rohit_x_'\n",
            " 'arshammem' 'jeffreysilv' 'bfeld' 'JohnJarve' 'stacydamico' 'mattocko'\n",
            " 'davidsze' 'jeff_jordan' 'itsbeecher' 'dthakker02' 'jshoee' 'samirkaul1'\n",
            " 'louisberyl' 'geoff_yang' 'krishparikh' 'Tocelot' 'joshk' 'JeffImmelt'\n",
            " 'ravirajjain' 'sonalidr' 'pbotteri' 'zacktrak' 'janehk' 'timechange'\n",
            " 'hellomorganlai' 'amy' 'wakohler' 'sidtriv' 'jameskissell' 'divyahansg'\n",
            " 'roelofbotha' 'tonidotorg' 'benedictevans' 'mattcohler' 'jason_pontin'\n",
            " 'eladgil']\n",
            "233\n"
          ]
        }
      ]
    },
    {
      "cell_type": "code",
      "source": [
        "sum(comments.commented_user.value_counts() >= 50)"
      ],
      "metadata": {
        "colab": {
          "base_uri": "https://localhost:8080/"
        },
        "outputId": "9048e579-afff-48ac-f93d-c9e648d57558",
        "id": "UOzgkUlF0eAu"
      },
      "execution_count": 16,
      "outputs": [
        {
          "output_type": "execute_result",
          "data": {
            "text/plain": [
              "24"
            ]
          },
          "metadata": {},
          "execution_count": 16
        }
      ]
    },
    {
      "cell_type": "markdown",
      "source": [
        "# __Data Exploring Results__\n",
        "\n",
        "---\n",
        "__Twitter Likes__\n",
        "*   Number of Rows of Unique Data: 168,120\n",
        "*   Number of Twitter Investors in Dataset: 319\n",
        "*   Number of Users who have been interacted with: 75,737\n",
        "*   Number of Users who have been interacted with more than 50 times (total): 170\n",
        "  * Note that these are the users we want to focus on for similarity calculations\n",
        "*   Number of Organisations in Dataset: 27\n",
        "*   Number of Investors who are also liked users: 267 \n",
        "  * Perhaps graphing these would be good\n",
        "\n",
        "More than 30 likes of a specific user = big fan of one specific user = why?\n",
        "\n",
        "More than 50 total likes = active user = more accurate data\n",
        "\n",
        "---\n",
        "__Twitter Comments (NOT UP TO DATE)__\n",
        "\n",
        "*   Number of Rows of Unique Data: 60, 291\n",
        "*   Number of Twitter Investors in Dataset: 320\n",
        "*   Number of Users who have been interacted with: 33,797\n",
        "*   Number of Users who have been interacted with more than 50 times: 25\n",
        "  * Note that these are the users we want to focus on as \"neighbours\"\n",
        "*   Number of Organisations in Dataset: 27\n",
        "*   Number of Investors who are also users that have been commented on: 2430\n",
        "*   Number of Investors who have more than 50 interactions (active investors): (NOT UP TO DaTE)"
      ],
      "metadata": {
        "id": "A9ZCa_4NQYwM"
      }
    },
    {
      "cell_type": "markdown",
      "source": [
        "# N-Nearest Neighbours (Comments)\n",
        "Iteration on algorithms by J. Piskorz"
      ],
      "metadata": {
        "id": "nN2FJsI7x4Zx"
      }
    },
    {
      "cell_type": "code",
      "source": [
        "\"\"\"\n",
        "Return for a pair of investors, the list of common liked or commented users\n",
        "\n",
        "Parameters\n",
        "---\n",
        "investor_1: str\n",
        "  Username of the first investor that the function analyses\n",
        "investor_2: str\n",
        "  Username of the second investor that the function analyses\n",
        "\n",
        "\n",
        "Other things to consider that could be added as a parameter:\n",
        "  Is the common user also an investor?\n",
        "  Is the common user someone who has been interacted greater than x number of times?\n",
        "\"\"\"\n",
        "\n",
        "def liked_together(investor_1, investor_2):\n",
        "  data = likes\n",
        "\n",
        "  #List of names of users that investor 1 and investor 2 has interacted with\n",
        "  investor1_liked = data.loc[data[\"investor\"] == investor_1].liked_user.unique()\n",
        "  investor2_liked = data.loc[data[\"investor\"] == investor_2].liked_user.unique()\n",
        "\n",
        "  #List of users who have been interacted with by the two investors\n",
        "  matchlikedusers = set(investor1_liked) & set(investor2_liked)\n",
        "\n",
        "  return matchlikedusers\n",
        "\n",
        "def not_liked_together(investor_1, investor_2):\n",
        "  data = likes\n",
        "\n",
        "  investor1_liked = data.loc[data[\"investor\"] == investor_1].liked_user.unique()\n",
        "  investor2_liked = data.loc[data[\"investor\"] == investor_2].liked_user.unique()\n",
        "\n",
        "  otherlikedusers = set(investor1_liked).difference(investor2_liked)\n",
        "\n",
        "  return otherlikedusers\n",
        "\n",
        "liked_together(\"ryan_mcintyre\",\"JayRughani\")"
      ],
      "metadata": {
        "id": "kQUivyVDTPGu",
        "colab": {
          "base_uri": "https://localhost:8080/"
        },
        "outputId": "75cf5d5d-0f07-4285-e244-ef69658732c1"
      },
      "execution_count": 17,
      "outputs": [
        {
          "output_type": "execute_result",
          "data": {
            "text/plain": [
              "{'AdamMGrant',\n",
              " 'AlecStapp',\n",
              " 'AlexAndBooks_',\n",
              " 'Austen',\n",
              " 'BarackObama',\n",
              " 'ChrisJBakke',\n",
              " 'JonErlichman',\n",
              " 'NasdaqExchange',\n",
              " 'NoContextBrits',\n",
              " 'Noahpinion',\n",
              " 'POTUS',\n",
              " 'ProfFeynman',\n",
              " 'SanFranciscoBA',\n",
              " 'TheOnion',\n",
              " 'TrungTPhan',\n",
              " 'TurnerNovak',\n",
              " 'WillManidis',\n",
              " 'anothercohen',\n",
              " 'benedictevans',\n",
              " 'chrisfralic',\n",
              " 'dafrankel',\n",
              " 'elonmusk',\n",
              " 'engineers_feed',\n",
              " 'fredwilson',\n",
              " 'hubermanlab',\n",
              " 'jasonlk',\n",
              " 'joshk',\n",
              " 'levie',\n",
              " 'loganbartlett',\n",
              " 'mattturck',\n",
              " 'mbrandolph',\n",
              " 'morganhousel',\n",
              " 'natsturner',\n",
              " 'naval',\n",
              " 'nealkhosla',\n",
              " 'paulg',\n",
              " 'pitdesi',\n",
              " 'pmarca',\n",
              " 'sama',\n",
              " 'sarahtavel',\n",
              " 'wolfejosh'}"
            ]
          },
          "metadata": {},
          "execution_count": 17
        }
      ]
    },
    {
      "cell_type": "code",
      "source": [
        "#For a given two investors who have both invested in a given user, the distance between them is given by subtracting the count of each\n",
        "#n.b This function will throw an error if the user is not liked by both investors - which is fine in our case\n",
        "\n",
        "def distance(investor_1, investor_2, user):\n",
        "    data = likes\n",
        "    count_1 = data[(data['investor']== investor_1) & (data['liked_user']== user)][\"count\"].item()\n",
        "    count_2 = data[(data['investor']== investor_2) & (data['liked_user']== user)][\"count\"].item()\n",
        "\n",
        "    dist = abs(count_1-count_2)\n",
        "    return dist\n",
        "\n",
        "distance(\"ryan_mcintyre\",\"JayRughani\",\"pmarca\")  "
      ],
      "metadata": {
        "colab": {
          "base_uri": "https://localhost:8080/"
        },
        "id": "Fgb4meTNsoZY",
        "outputId": "97c3d917-4298-4d1f-db35-93df2fd4eacf"
      },
      "execution_count": 18,
      "outputs": [
        {
          "output_type": "execute_result",
          "data": {
            "text/plain": [
              "34"
            ]
          },
          "metadata": {},
          "execution_count": 18
        }
      ]
    },
    {
      "cell_type": "markdown",
      "source": [
        "Functionality to be added for n_nearest_neighbours:\n",
        "*   (Done) Ability to go off of ivestor name\n",
        "*   Organisation to investor similarity and vice versa\n",
        "  *  (DONE) Cumulate similar users who have been liked \n",
        "* (DONE) investor_list - only consider similarity between investor and investor in list\n"
      ],
      "metadata": {
        "id": "xc5VfYF24q16"
      }
    },
    {
      "cell_type": "code",
      "source": [
        "#aggregation Sequoia Capital\n",
        "\n",
        "organization_data = likes.drop(columns=[\"investor_name\",\"investor\"]).groupby(likes[\"liked_user\"], as_index=False).agg({\"organization\":\"first\",\"liked_user\":\"first\", \"count\":\"sum\"})\n",
        "find_val = organization_data.loc[(organization_data.organization == \"Foundry Group\") & (organization_data.liked_user == \"yoavlurie\")]\n",
        "print(find_val)"
      ],
      "metadata": {
        "colab": {
          "base_uri": "https://localhost:8080/"
        },
        "id": "0U2KHIO4nWa6",
        "outputId": "49d29614-166e-4900-ff82-94910505738e"
      },
      "execution_count": 19,
      "outputs": [
        {
          "output_type": "stream",
          "name": "stdout",
          "text": [
            "        organization liked_user  count\n",
            "75204  Foundry Group  yoavlurie    176\n"
          ]
        }
      ]
    },
    {
      "cell_type": "code",
      "source": [
        "\"\"\"\n",
        "Finds N most similar investors to user specified constraints.\n",
        "\n",
        "Parameters\n",
        "---\n",
        "Investor: Str\n",
        "  The name of the Investor for which neighbours are which to be computed\n",
        "N: Int\n",
        "  The number of nearest neighbours to be computed\n",
        "Similarity: str or list\n",
        "  If str:\n",
        "    Function used to compute the similarity between investors.\n",
        "        - \"jacc\": jaccard similarity\n",
        "        - \"cond\": conditional probability-based similarity\n",
        "        - \"abs\": total number of users co-interacted\n",
        "        - \"count_sim\": similarity which is inversly proportional to the distance between the investors specified using 'count_scale' and note that this \n",
        "Min_no_likes: int\n",
        "  Only consider users which have at least minimum number of likes by specific user or total - not sure yet which one to use\n",
        "sim_func: function\n",
        "  The function used to convert the distance into a similarity measure on a [0, 1] interval when using like similarity as a similarity measure.\n",
        "investors_list: list or ()\n",
        "  If (): consider all the investors in the dataset\n",
        "        Otherwise: only consider the similarity between the VC and the investors in the list\n",
        "\"\"\"\n",
        "\n",
        "def n_nearest_neighbours(investor_name, n=10, similarity=\"jacc\", min_no_likes=50, sim_func=\"default\", investors_list=(), minimum=7):\n",
        "  data = likes[likes[\"count\"] >=minimum]\n",
        "  organization_data = likes.drop(columns=[\"investor_name\",\"investor\"]).groupby(likes[\"liked_user\"], as_index=False).agg({\"organization\":\"first\",\"liked_user\":\"first\", \"count\":\"sum\"})\n",
        "\n",
        "  #n_neighbours_df = n_nearest_neighbours(investor_un, n=n, similarity=similarity, min_no_likes = min_no_likes, sim_func  = sim_func)\n",
        "\n",
        "  #if scale == 'default':\n",
        "     # print(\"hi\")\n",
        "\n",
        "  if sim_func == \"default\":\n",
        "    def sim_func(x):\n",
        "        return(1/(1+x))\n",
        "  \n",
        "  #Make allowance for data being given as name and output as name\n",
        "  investor_un = data.loc[data.investor_name == investor_name, \"investor\"].head(1).item()\n",
        "\n",
        "  if investors_list:\n",
        "    data = [data.loc[data.investor_name == i, \"investor\"].head(1).item() for i in investors_list]\n",
        "\n",
        "  #List all investors has interacted with\n",
        "  \n",
        "  investor_array = np.array(data.groupby(\"investor\").filter(lambda x: len(x) >= min_no_likes).investor.unique())  #Investors who have more than 50 interactions total\n",
        "  investor_array = investor_array[investor_array != investor_un] #List of Investors that do not include investor of interest\n",
        "  investor_array_names = [data.loc[data.investor == i, \"investor_name\"].head(1).item() for i in investor_array]\n",
        "\n",
        "  #investor_name = investor_name\n",
        "\n",
        "  #Computing similarities\n",
        "  investor_interactions =[]\n",
        "  for i in range(len(investor_array)):\n",
        "    investor_interactions.append(data.loc[data.investor == investor_array[i],\"count\"].sum())                       \n",
        "  similarity_df = pd.DataFrame({\"Count\": investor_interactions}, index=investor_array_names)\n",
        "\n",
        "  ind = 1\n",
        "  if type(similarity) == str:  \n",
        "    similarity = [similarity]\n",
        "\n",
        "  for sim in similarity:\n",
        "\n",
        "    if sim == \"jacc\": #counts have not been factored into this.\n",
        "      sim_vector = [len(liked_together(investor_un,i))/(len(not_liked_together(investor_un,i))+len(liked_together(investor_un,i))) for i in investor_array]\n",
        "\n",
        "    elif sim == \"cond\": #COunts have not been factored into this\n",
        "      #Conditional probability that investor has liked a given user given that another investor has already liked them\n",
        "      sim_vector = [len(liked_together(investor_un,i))/len(data.loc[data[\"investor\"] == i].liked_user.unique()) for i in investor_array] \n",
        "\n",
        "    elif sim == \"abs\": #counts have not been factored into this\n",
        "      #Count the number of uesers that investor A and investor B have liked together\n",
        "      sim_vector = [len(liked_together(investor_un,i)) for i in investor_array]\n",
        "\n",
        "    elif sim == \"count_sim\":\n",
        "      \"Two investors are more similar if they liked a user a similar nmber of times.\"\n",
        "      sim_vector = np.zeros(len(investor_array))\n",
        "      dist = []\n",
        "      total_dist = 0\n",
        "      for i in range(len(investor_array)):\n",
        "        together = liked_together(investor_un, investor_array[i])\n",
        "        if together != 0:\n",
        "          for u in together: # for a given user in the list of users that have been liked by two investors\n",
        "            dist.append(distance(investor_un, investor_array[i], u))\n",
        "            ave_dist = sum(dist)/len(together)\n",
        "          sim_vector[i] = sim_func(ave_dist)\n",
        "        elif together ==0:\n",
        "          sim_vector[i]=0\n",
        "\n",
        "    new_sim_df = pd.DataFrame({sim: sim_vector}, index=investor_array_names)\n",
        "    similarity_df = similarity_df.join(new_sim_df)\n",
        "    \n",
        "    #if ind == 1:\n",
        "     #   similarity_df = similarity_df.sort_values(by=similarity[0], ascending=False).head(n)\n",
        "     #   investors_top = list(similarity_df.index)\n",
        "     #   investor_array = [invested_list[list(investors).index(x)] for x in investors_top]\n",
        "    #    investors = investors_top.copy()\n",
        "    #    ind += 1\n",
        "  similarity_df = similarity_df.sort_values(by=similarity_df.columns[0], ascending=False).head(n)\n",
        "\n",
        "  return similarity_df\n",
        "\n",
        "n_nearest_neighbours(\"Matt Miller\", similarity = (\"jacc\"))\n"
      ],
      "metadata": {
        "colab": {
          "base_uri": "https://localhost:8080/",
          "height": 363
        },
        "id": "TEzISVQWhSnZ",
        "outputId": "5c333022-2540-40fd-bb22-b19614c005a3"
      },
      "execution_count": 79,
      "outputs": [
        {
          "output_type": "execute_result",
          "data": {
            "text/plain": [
              "               Count      jacc\n",
              "Nicole North    1464  0.020979\n",
              "Max Rimpel      1359  0.086247\n",
              "Reid Hoffman    1346  0.051282\n",
              "Jackie Xu       1332  0.034965\n",
              "Steve Herrod    1309  0.030303\n",
              "Kevin Compton   1296  0.053613\n",
              "Sid Trivedi     1277  0.039627\n",
              "Saam Motamedi   1277  0.067599\n",
              "Medha Agarwal   1258  0.018648\n",
              "Matt Murphy     1231  0.065268"
            ],
            "text/html": [
              "\n",
              "  <div id=\"df-de3b6f4b-e0d1-455e-bc97-306b007317c9\">\n",
              "    <div class=\"colab-df-container\">\n",
              "      <div>\n",
              "<style scoped>\n",
              "    .dataframe tbody tr th:only-of-type {\n",
              "        vertical-align: middle;\n",
              "    }\n",
              "\n",
              "    .dataframe tbody tr th {\n",
              "        vertical-align: top;\n",
              "    }\n",
              "\n",
              "    .dataframe thead th {\n",
              "        text-align: right;\n",
              "    }\n",
              "</style>\n",
              "<table border=\"1\" class=\"dataframe\">\n",
              "  <thead>\n",
              "    <tr style=\"text-align: right;\">\n",
              "      <th></th>\n",
              "      <th>Count</th>\n",
              "      <th>jacc</th>\n",
              "    </tr>\n",
              "  </thead>\n",
              "  <tbody>\n",
              "    <tr>\n",
              "      <th>Nicole North</th>\n",
              "      <td>1464</td>\n",
              "      <td>0.020979</td>\n",
              "    </tr>\n",
              "    <tr>\n",
              "      <th>Max Rimpel</th>\n",
              "      <td>1359</td>\n",
              "      <td>0.086247</td>\n",
              "    </tr>\n",
              "    <tr>\n",
              "      <th>Reid Hoffman</th>\n",
              "      <td>1346</td>\n",
              "      <td>0.051282</td>\n",
              "    </tr>\n",
              "    <tr>\n",
              "      <th>Jackie Xu</th>\n",
              "      <td>1332</td>\n",
              "      <td>0.034965</td>\n",
              "    </tr>\n",
              "    <tr>\n",
              "      <th>Steve Herrod</th>\n",
              "      <td>1309</td>\n",
              "      <td>0.030303</td>\n",
              "    </tr>\n",
              "    <tr>\n",
              "      <th>Kevin Compton</th>\n",
              "      <td>1296</td>\n",
              "      <td>0.053613</td>\n",
              "    </tr>\n",
              "    <tr>\n",
              "      <th>Sid Trivedi</th>\n",
              "      <td>1277</td>\n",
              "      <td>0.039627</td>\n",
              "    </tr>\n",
              "    <tr>\n",
              "      <th>Saam Motamedi</th>\n",
              "      <td>1277</td>\n",
              "      <td>0.067599</td>\n",
              "    </tr>\n",
              "    <tr>\n",
              "      <th>Medha Agarwal</th>\n",
              "      <td>1258</td>\n",
              "      <td>0.018648</td>\n",
              "    </tr>\n",
              "    <tr>\n",
              "      <th>Matt Murphy</th>\n",
              "      <td>1231</td>\n",
              "      <td>0.065268</td>\n",
              "    </tr>\n",
              "  </tbody>\n",
              "</table>\n",
              "</div>\n",
              "      <button class=\"colab-df-convert\" onclick=\"convertToInteractive('df-de3b6f4b-e0d1-455e-bc97-306b007317c9')\"\n",
              "              title=\"Convert this dataframe to an interactive table.\"\n",
              "              style=\"display:none;\">\n",
              "        \n",
              "  <svg xmlns=\"http://www.w3.org/2000/svg\" height=\"24px\"viewBox=\"0 0 24 24\"\n",
              "       width=\"24px\">\n",
              "    <path d=\"M0 0h24v24H0V0z\" fill=\"none\"/>\n",
              "    <path d=\"M18.56 5.44l.94 2.06.94-2.06 2.06-.94-2.06-.94-.94-2.06-.94 2.06-2.06.94zm-11 1L8.5 8.5l.94-2.06 2.06-.94-2.06-.94L8.5 2.5l-.94 2.06-2.06.94zm10 10l.94 2.06.94-2.06 2.06-.94-2.06-.94-.94-2.06-.94 2.06-2.06.94z\"/><path d=\"M17.41 7.96l-1.37-1.37c-.4-.4-.92-.59-1.43-.59-.52 0-1.04.2-1.43.59L10.3 9.45l-7.72 7.72c-.78.78-.78 2.05 0 2.83L4 21.41c.39.39.9.59 1.41.59.51 0 1.02-.2 1.41-.59l7.78-7.78 2.81-2.81c.8-.78.8-2.07 0-2.86zM5.41 20L4 18.59l7.72-7.72 1.47 1.35L5.41 20z\"/>\n",
              "  </svg>\n",
              "      </button>\n",
              "      \n",
              "  <style>\n",
              "    .colab-df-container {\n",
              "      display:flex;\n",
              "      flex-wrap:wrap;\n",
              "      gap: 12px;\n",
              "    }\n",
              "\n",
              "    .colab-df-convert {\n",
              "      background-color: #E8F0FE;\n",
              "      border: none;\n",
              "      border-radius: 50%;\n",
              "      cursor: pointer;\n",
              "      display: none;\n",
              "      fill: #1967D2;\n",
              "      height: 32px;\n",
              "      padding: 0 0 0 0;\n",
              "      width: 32px;\n",
              "    }\n",
              "\n",
              "    .colab-df-convert:hover {\n",
              "      background-color: #E2EBFA;\n",
              "      box-shadow: 0px 1px 2px rgba(60, 64, 67, 0.3), 0px 1px 3px 1px rgba(60, 64, 67, 0.15);\n",
              "      fill: #174EA6;\n",
              "    }\n",
              "\n",
              "    [theme=dark] .colab-df-convert {\n",
              "      background-color: #3B4455;\n",
              "      fill: #D2E3FC;\n",
              "    }\n",
              "\n",
              "    [theme=dark] .colab-df-convert:hover {\n",
              "      background-color: #434B5C;\n",
              "      box-shadow: 0px 1px 3px 1px rgba(0, 0, 0, 0.15);\n",
              "      filter: drop-shadow(0px 1px 2px rgba(0, 0, 0, 0.3));\n",
              "      fill: #FFFFFF;\n",
              "    }\n",
              "  </style>\n",
              "\n",
              "      <script>\n",
              "        const buttonEl =\n",
              "          document.querySelector('#df-de3b6f4b-e0d1-455e-bc97-306b007317c9 button.colab-df-convert');\n",
              "        buttonEl.style.display =\n",
              "          google.colab.kernel.accessAllowed ? 'block' : 'none';\n",
              "\n",
              "        async function convertToInteractive(key) {\n",
              "          const element = document.querySelector('#df-de3b6f4b-e0d1-455e-bc97-306b007317c9');\n",
              "          const dataTable =\n",
              "            await google.colab.kernel.invokeFunction('convertToInteractive',\n",
              "                                                     [key], {});\n",
              "          if (!dataTable) return;\n",
              "\n",
              "          const docLinkHtml = 'Like what you see? Visit the ' +\n",
              "            '<a target=\"_blank\" href=https://colab.research.google.com/notebooks/data_table.ipynb>data table notebook</a>'\n",
              "            + ' to learn more about interactive tables.';\n",
              "          element.innerHTML = '';\n",
              "          dataTable['output_type'] = 'display_data';\n",
              "          await google.colab.output.renderOutput(dataTable, element);\n",
              "          const docLink = document.createElement('div');\n",
              "          docLink.innerHTML = docLinkHtml;\n",
              "          element.appendChild(docLink);\n",
              "        }\n",
              "      </script>\n",
              "    </div>\n",
              "  </div>\n",
              "  "
            ]
          },
          "metadata": {},
          "execution_count": 79
        }
      ]
    },
    {
      "cell_type": "markdown",
      "source": [
        "# __Graph View of n_nearest neighbours__"
      ],
      "metadata": {
        "id": "IM0ALQ8g3Vp9"
      }
    },
    {
      "cell_type": "code",
      "source": [
        "import networkx as nx\n",
        "import matplotlib as mpl\n",
        "from sklearn.manifold import MDS"
      ],
      "metadata": {
        "id": "oyUZEk1x4ICs"
      },
      "execution_count": 22,
      "outputs": []
    },
    {
      "cell_type": "markdown",
      "source": [
        "Functionality to be added to plot:\n",
        "* Ability to specify organisation plot\n",
        "* Ability to specify organisation to investor similarity"
      ],
      "metadata": {
        "id": "r7wuNqC65uxD"
      }
    },
    {
      "cell_type": "code",
      "source": [
        "\"\"\"\n",
        "Finds n most similar investors to given investor under the specified constrains and plots them onto a network graphs. \n",
        "Distances between nodes are based on the absolute similarity. \n",
        "Node sizes indicate total number of interactions by a given user\n",
        "Edge colours indicate the spceifid similarity matrix between investor and neighbours.\n",
        "\n",
        "Paramaters:\n",
        "\n",
        "Investor: Str\n",
        "  The name of the Investor for which neighbours are which to be computed\n",
        "N: Int\n",
        "  The number of nearest neighbours to be computed\n",
        "Similarity: str or list\n",
        "  If str:\n",
        "    Function used to compute the similarity between investors.\n",
        "        - \"jacc\": jaccard similarity\n",
        "        - \"cond\": conditional probability-based similarity\n",
        "        - \"abs\": total number of users co-interacted\n",
        "        - \"count_sim\": similarity which is inversly proportional to the distance between the investors specified using 'count_scale' and note that this \n",
        "Min_no_likes: int\n",
        "  Only consider users which have at least minimum number of likes by specific user or total - not sure yet which one to use\n",
        "sim_func: function\n",
        "  The function used to convert the distance into a similarity measure on a [0, 1] interval when using like similarity as a similarity measure.\n",
        "save: bool\n",
        "  If true, save plot as a png\n",
        "\"\"\"\n",
        "\n",
        "def plot_n_nearest_neighbours(investor_name, n=10, similarity=\"jacc\", min_no_likes=50, sim_func=\"default\", save=False, minimum =5):\n",
        "\n",
        "  data = likes\n",
        "\n",
        "  if similarity == \"abs\":\n",
        "      raise Exception(\"Use a different similarity measure for plotting the graph!\")\n",
        "\n",
        "  n_neighbours_df = n_nearest_neighbours(investor_name, n=n, min_no_likes=min_no_likes, sim_func=sim_func, similarity=similarity, minimum=minimum)\n",
        "  \n",
        "  n_neighbours = [investor_name] + list(n_neighbours_df.index)\n",
        "  neighbours_only = list(n_neighbours_df.index) \n",
        "  similarity_values = np.array(n_neighbours_df[similarity])\n",
        "  normalised_similarity_values = [similarity_values[i]/max(similarity_values) for i in range(len(similarity_values))]\n",
        "\n",
        "  #if sim_func == \"default\":\n",
        "   #   def sim_func(x):\n",
        "    #    return(1/(1+x))\n",
        "  \n",
        "  #names to username so that it can be compared back\n",
        "  investor_un = data.loc[data.investor_name == investor_name, \"investor\"].head(1).item()\n",
        "  n_neighbours_un = [data.loc[data.investor_name == i, \"investor\"].head(1).item() for i in n_neighbours]\n",
        "  neighbours_only_un = [data.loc[data.investor_name == i, \"investor\"].head(1).item() for i in neighbours_only]\n",
        "  neighbours_only_names = list(n_neighbours_df.index)\n",
        "\n",
        "  liked_user_list = [liked_together(investor_un, i) for i in n_neighbours_un]\n",
        "\n",
        "  #Users who have been liked themselves\n",
        "  liked_back_list = []\n",
        "  allinvestors_list = data.investor.unique()\n",
        "\n",
        "  for i in range(len(neighbours_only_un)):\n",
        "  \n",
        "    if neighbours_only_un[i] in allinvestors_list:\n",
        "      likedbylikedinvestor = data.loc[data[\"investor\"] == neighbours_only_un[i]].liked_user.unique()\n",
        "      if investor_un in likedbylikedinvestor:\n",
        "        liked_back_list.append(True)\n",
        "      else:\n",
        "        liked_back_list.append(False)\n",
        "    else:\n",
        "      liked_back_list.append(False)\n",
        "\n",
        "  # Find the position of the nodes based on the number of users who have also been liked by a given investor - this must be true because distance matrix used must be symmetric (and also works better than when bounded for some reason...)\n",
        "  A_sim = np.array([[len(set(liked_user_list[i]) & set(liked_user_list[j])) for i in range(len(n_neighbours))] for j in range(len(n_neighbours))])\n",
        "    \n",
        "  B = A_sim - np.diag(np.diag(A_sim))\n",
        "  A_dist = np.ones(A_sim.shape)*B.max()*1.1  - A_sim\n",
        "  A_dist -= np.diag(np.diag(A_dist))\n",
        "  \n",
        "  mds = MDS(n_components=2, metric=False, dissimilarity='precomputed', n_init=20, max_iter=600)\n",
        "  transformed_neighbours = mds.fit_transform(A_dist)\n",
        "  transformed_neighbours -= transformed_neighbours[0, :]\n",
        "  positions = dict([(n_neighbours[i], transformed_neighbours[i, :]) for i in range(n+1)])\n",
        "  transformed_neighbours_labels = np.array(transformed_neighbours)\n",
        "  transformed_neighbours_labels[:, 1] += np.sign(transformed_neighbours_labels[:, 1])*0.03\n",
        "  positions_labels = dict([(n_neighbours[i], transformed_neighbours_labels[i, :]) for i in range(n+1)])\n",
        "  \n",
        "  G = nx.DiGraph()\n",
        "  G.add_nodes_from(n_neighbours)\n",
        "  \n",
        "  edges = [(investor_name, n_neighbours[i+1], {\"weight\": normalised_similarity_values[i]}) for i in range(n)]\n",
        "  G.add_edges_from(edges)\n",
        "  \n",
        "  M = len(liked_user_list[0])\n",
        "  node_sizes = np.array([M] + list(n_neighbours_df[\"Count\"]))\n",
        "  node_sizes = 10 + 400*node_sizes/node_sizes.max()\n",
        "  node_sizeforplot = node_sizes\n",
        "  edge_colors = list(normalised_similarity_values)\n",
        "  cmap = plt.cm.PuRd\n",
        "\n",
        "  positions_new = positions.copy()\n",
        "  labels_new = positions_labels.copy()\n",
        "  sizes_new = np.array([node_sizes[0]])\n",
        "  new_colours = np.array([edge_colors[0]])\n",
        "  n_neighbours_liked = []\n",
        "  new_similarity = []\n",
        "\n",
        "  for i in range(len(liked_back_list)):\n",
        "    if liked_back_list[i] == True:\n",
        "      n_neighbours_liked.append(neighbours_only_names[i])\n",
        "      new_similarity.append(normalised_similarity_values[i])\n",
        "      edge_colors = np.append(edge_colors, edge_colors[i])\n",
        "      node_sizes = np.append(node_sizes, node_sizes[i])\n",
        "  print(n_neighbours_liked)\n",
        "  #Gnew = nx.DiGraph()\n",
        "  #Gnew.add_nodes_from(n_neighbours_liked)\n",
        "\n",
        "  edges_new = [(n_neighbours_liked[i], investor_name, {\"weight\": new_similarity[i]}) for i in range(len(n_neighbours_liked))]\n",
        "  G.add_edges_from(edges_new)\n",
        "\n",
        "  nodes = nx.draw_networkx_nodes(G, positions, node_size=node_sizeforplot, edgecolors=([\"blue\"] + [\"indigo\"]*n), linewidths=2, node_color =\"none\" )\n",
        "  #nodes.set_edgecolor([\"blue\"]+[\"indigo\"]*n)\n",
        "\n",
        "  edges = nx.draw_networkx_edges(\n",
        "      G,\n",
        "      positions,\n",
        "      node_size=node_sizes,\n",
        "      arrowstyle=\"->\",\n",
        "      arrowsize=10,\n",
        "      edge_color=edge_colors,\n",
        "      edge_cmap=cmap,\n",
        "      width=2.5,\n",
        "      alpha=0.7,\n",
        "      label=similarity\n",
        "  )\n",
        "\n",
        "  nx.draw_networkx_labels(G, positions_labels, font_size=13, font_color=\"black\", clip_on=False, alpha=0.9)\n",
        "\n",
        "  pc = mpl.collections.PatchCollection(edges, cmap=cmap)\n",
        "  pc.set_array(edge_colors)\n",
        "\n",
        "  plt.xlim(-1, 1)\n",
        "  plt.ylim(-1, 1)\n",
        "  ax = plt.gca()\n",
        "  ax.set_axis_off()\n",
        "  plt.colorbar(pc, ax=ax)\n",
        "  plt.title(f\"The map of {n} nearest neighbours of {investor_name} based on normalised similarity measure {similarity}\", fontsize=22)\n",
        "  ax.figure.set_size_inches(25, 25)\n",
        "    \n",
        "  if save:\n",
        "      plt.savefig(f'{investor_un}_{similarity}.png', bbox_inches='tight')\n",
        "    \n",
        "  plt.show()\n",
        "        \n",
        "  A_dist_df = pd.DataFrame(A_dist, index=n_neighbours)\n",
        "  A_dist_df.columns = n_neighbours\n",
        "    \n",
        "  return A_dist_df\n",
        "\n",
        "A_dist = plot_n_nearest_neighbours(\"Ryan McIntyre\", similarity = (\"jacc\"), save=True, n=15, minimum=8)"
      ],
      "metadata": {
        "colab": {
          "base_uri": "https://localhost:8080/",
          "height": 1000
        },
        "id": "71_g71SE3jsI",
        "outputId": "4ba4cdbc-3789-4c85-88eb-ae4e36dfefeb"
      },
      "execution_count": 82,
      "outputs": [
        {
          "output_type": "stream",
          "name": "stderr",
          "text": [
            "/usr/local/lib/python3.9/dist-packages/sklearn/manifold/_mds.py:299: FutureWarning: The default value of `normalized_stress` will change to `'auto'` in version 1.4. To suppress this warning, manually set the value of `normalized_stress`.\n",
            "  warnings.warn(\n"
          ]
        },
        {
          "output_type": "stream",
          "name": "stdout",
          "text": [
            "['Jaclyn Freeman Hester']\n"
          ]
        },
        {
          "output_type": "display_data",
          "data": {
            "text/plain": [
              "<Figure size 1800x1800 with 2 Axes>"
            ],
            "image/png": "[encoded data removed]"
          },
          "metadata": {
            "needs_background": "light"
          }
        }
      ]
    },
    {
      "cell_type": "code",
      "source": [
        "A_dist = plot_n_nearest_neighbours(\"Paul Graham\", similarity = (\"jacc\"), save=True, n=10)"
      ],
      "metadata": {
        "colab": {
          "base_uri": "https://localhost:8080/",
          "height": 1000
        },
        "id": "RR9pyBn7CZs-",
        "outputId": "5235ccd5-ebc4-40d7-a5f8-59e6e0e14204"
      },
      "execution_count": 73,
      "outputs": [
        {
          "output_type": "stream",
          "name": "stderr",
          "text": [
            "/usr/local/lib/python3.9/dist-packages/sklearn/manifold/_mds.py:299: FutureWarning: The default value of `normalized_stress` will change to `'auto'` in version 1.4. To suppress this warning, manually set the value of `normalized_stress`.\n",
            "  warnings.warn(\n"
          ]
        },
        {
          "output_type": "stream",
          "name": "stdout",
          "text": [
            "['Paul Buchheit', 'Sonal Chokshi', 'Jessica Livingston', 'Amit Kumar', 'Jared Friedman', 'Gustaf Alstromer', 'Josh McFarland', 'Adora Cheung', 'Marc Andreessen', 'Anish Acharya']\n"
          ]
        },
        {
          "output_type": "display_data",
          "data": {
            "text/plain": [
              "<Figure size 1800x1800 with 2 Axes>"
            ],
            "image/png": "[encoded data removed]"
          },
          "metadata": {
            "needs_background": "light"
          }
        }
      ]
    }
  ]
}