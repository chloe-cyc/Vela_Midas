{
  "nbformat": 4,
  "nbformat_minor": 0,
  "metadata": {
    "colab": {
      "provenance": [],
      "collapsed_sections": [
        "zLwWejPqyGKj"
      ],
      "authorship_tag": "ABX9TyO54coODPOHYd1nMXgn0Gpw",
      "include_colab_link": true
    },
    "kernelspec": {
      "name": "python3",
      "display_name": "Python 3"
    },
    "language_info": {
      "name": "python"
    }
  },
  "cells": [
    {
      "cell_type": "markdown",
      "metadata": {
        "id": "view-in-github",
        "colab_type": "text"
      },
      "source": [
        "<a href=\"https://colab.research.google.com/github/chloe-cyc/Vela_Midas/blob/main/Vela_Twitter_Midas.ipynb\" target=\"_parent\"><img src=\"https://colab.research.google.com/assets/colab-badge.svg\" alt=\"Open In Colab\"/></a>"
      ]
    },
    {
      "cell_type": "code",
      "source": [
        "! gdown --id 1RxZ5v12NINAPM2gBvOinOmVWhkipvkHJ"
      ],
      "metadata": {
        "colab": {
          "base_uri": "https://localhost:8080/"
        },
        "id": "oHlVOumDSqaH",
        "outputId": "22126d49-9398-416f-c785-a04d590c247f"
      },
      "execution_count": 1,
      "outputs": [
        {
          "output_type": "stream",
          "name": "stdout",
          "text": [
            "/usr/local/lib/python3.9/dist-packages/gdown/cli.py:121: FutureWarning: Option `--id` was deprecated in version 4.3.1 and will be removed in 5.0. You don't need to pass it anymore to use a file ID.\n",
            "  warnings.warn(\n",
            "Downloading...\n",
            "From: https://drive.google.com/uc?id=1RxZ5v12NINAPM2gBvOinOmVWhkipvkHJ\n",
            "To: /content/Twitter Likes.csv\n",
            "100% 8.96M/8.96M [00:00<00:00, 17.4MB/s]\n"
          ]
        }
      ]
    },
    {
      "cell_type": "code",
      "source": [
        "! gdown --id 1T8NkcfzqiN0R33GSQXEh9eaMbFBU1_9D"
      ],
      "metadata": {
        "colab": {
          "base_uri": "https://localhost:8080/"
        },
        "id": "PBOPKtDeSqSl",
        "outputId": "2ed1b0be-d775-44db-8f0f-8cc05ca18c7a"
      },
      "execution_count": null,
      "outputs": [
        {
          "output_type": "stream",
          "name": "stdout",
          "text": [
            "/usr/local/lib/python3.9/dist-packages/gdown/cli.py:121: FutureWarning: Option `--id` was deprecated in version 4.3.1 and will be removed in 5.0. You don't need to pass it anymore to use a file ID.\n",
            "  warnings.warn(\n",
            "Downloading...\n",
            "From: https://drive.google.com/uc?id=1T8NkcfzqiN0R33GSQXEh9eaMbFBU1_9D\n",
            "To: /content/Twitter comments.csv\n",
            "100% 3.19M/3.19M [00:00<00:00, 137MB/s]\n"
          ]
        }
      ]
    },
    {
      "cell_type": "code",
      "execution_count": 2,
      "metadata": {
        "id": "Qz_OO_WxQOha"
      },
      "outputs": [],
      "source": [
        "#Import Packages\n",
        "import pandas as pd\n",
        "import numpy as np\n",
        "import time\n",
        "import matplotlib.pyplot as plt\n",
        "import seaborn as sns\n",
        "import datetime #bi\n",
        "\n",
        "pd.options.mode.chained_assignment = None"
      ]
    },
    {
      "cell_type": "markdown",
      "source": [
        "# **Liked Users Dataset**"
      ],
      "metadata": {
        "id": "qlFs879EoyK7"
      }
    },
    {
      "cell_type": "code",
      "source": [
        "likes = pd.read_csv(\"Twitter Likes.csv\")\n",
        "likes = likes.drop_duplicates()\n",
        "#midas[\"round_order\"] = midas.round_name.map(round_order)\n",
        "likes.head()"
      ],
      "metadata": {
        "id": "WXkpf6s4QUey",
        "colab": {
          "base_uri": "https://localhost:8080/",
          "height": 207
        },
        "outputId": "163d5570-ffd3-4a23-d04e-d2e69e223d11"
      },
      "execution_count": 3,
      "outputs": [
        {
          "output_type": "execute_result",
          "data": {
            "text/plain": [
              "   investor_name   organization       investor     liked_user  count\n",
              "0  Ryan McIntyre  Foundry Group  ryan_mcintyre    chrismichel    153\n",
              "1  Ryan McIntyre  Foundry Group  ryan_mcintyre      yoavlurie    153\n",
              "2  Ryan McIntyre  Foundry Group  ryan_mcintyre  Rainmaker1973     84\n",
              "3  Ryan McIntyre  Foundry Group  ryan_mcintyre         KatieS     41\n",
              "4  Ryan McIntyre  Foundry Group  ryan_mcintyre             km     33"
            ],
            "text/html": [
              "\n",
              "  <div id=\"df-9bdefcdf-d956-48a3-86b7-2c1504d8ccd2\">\n",
              "    <div class=\"colab-df-container\">\n",
              "      <div>\n",
              "<style scoped>\n",
              "    .dataframe tbody tr th:only-of-type {\n",
              "        vertical-align: middle;\n",
              "    }\n",
              "\n",
              "    .dataframe tbody tr th {\n",
              "        vertical-align: top;\n",
              "    }\n",
              "\n",
              "    .dataframe thead th {\n",
              "        text-align: right;\n",
              "    }\n",
              "</style>\n",
              "<table border=\"1\" class=\"dataframe\">\n",
              "  <thead>\n",
              "    <tr style=\"text-align: right;\">\n",
              "      <th></th>\n",
              "      <th>investor_name</th>\n",
              "      <th>organization</th>\n",
              "      <th>investor</th>\n",
              "      <th>liked_user</th>\n",
              "      <th>count</th>\n",
              "    </tr>\n",
              "  </thead>\n",
              "  <tbody>\n",
              "    <tr>\n",
              "      <th>0</th>\n",
              "      <td>Ryan McIntyre</td>\n",
              "      <td>Foundry Group</td>\n",
              "      <td>ryan_mcintyre</td>\n",
              "      <td>chrismichel</td>\n",
              "      <td>153</td>\n",
              "    </tr>\n",
              "    <tr>\n",
              "      <th>1</th>\n",
              "      <td>Ryan McIntyre</td>\n",
              "      <td>Foundry Group</td>\n",
              "      <td>ryan_mcintyre</td>\n",
              "      <td>yoavlurie</td>\n",
              "      <td>153</td>\n",
              "    </tr>\n",
              "    <tr>\n",
              "      <th>2</th>\n",
              "      <td>Ryan McIntyre</td>\n",
              "      <td>Foundry Group</td>\n",
              "      <td>ryan_mcintyre</td>\n",
              "      <td>Rainmaker1973</td>\n",
              "      <td>84</td>\n",
              "    </tr>\n",
              "    <tr>\n",
              "      <th>3</th>\n",
              "      <td>Ryan McIntyre</td>\n",
              "      <td>Foundry Group</td>\n",
              "      <td>ryan_mcintyre</td>\n",
              "      <td>KatieS</td>\n",
              "      <td>41</td>\n",
              "    </tr>\n",
              "    <tr>\n",
              "      <th>4</th>\n",
              "      <td>Ryan McIntyre</td>\n",
              "      <td>Foundry Group</td>\n",
              "      <td>ryan_mcintyre</td>\n",
              "      <td>km</td>\n",
              "      <td>33</td>\n",
              "    </tr>\n",
              "  </tbody>\n",
              "</table>\n",
              "</div>\n",
              "      <button class=\"colab-df-convert\" onclick=\"convertToInteractive('df-9bdefcdf-d956-48a3-86b7-2c1504d8ccd2')\"\n",
              "              title=\"Convert this dataframe to an interactive table.\"\n",
              "              style=\"display:none;\">\n",
              "        \n",
              "  <svg xmlns=\"http://www.w3.org/2000/svg\" height=\"24px\"viewBox=\"0 0 24 24\"\n",
              "       width=\"24px\">\n",
              "    <path d=\"M0 0h24v24H0V0z\" fill=\"none\"/>\n",
              "    <path d=\"M18.56 5.44l.94 2.06.94-2.06 2.06-.94-2.06-.94-.94-2.06-.94 2.06-2.06.94zm-11 1L8.5 8.5l.94-2.06 2.06-.94-2.06-.94L8.5 2.5l-.94 2.06-2.06.94zm10 10l.94 2.06.94-2.06 2.06-.94-2.06-.94-.94-2.06-.94 2.06-2.06.94z\"/><path d=\"M17.41 7.96l-1.37-1.37c-.4-.4-.92-.59-1.43-.59-.52 0-1.04.2-1.43.59L10.3 9.45l-7.72 7.72c-.78.78-.78 2.05 0 2.83L4 21.41c.39.39.9.59 1.41.59.51 0 1.02-.2 1.41-.59l7.78-7.78 2.81-2.81c.8-.78.8-2.07 0-2.86zM5.41 20L4 18.59l7.72-7.72 1.47 1.35L5.41 20z\"/>\n",
              "  </svg>\n",
              "      </button>\n",
              "      \n",
              "  <style>\n",
              "    .colab-df-container {\n",
              "      display:flex;\n",
              "      flex-wrap:wrap;\n",
              "      gap: 12px;\n",
              "    }\n",
              "\n",
              "    .colab-df-convert {\n",
              "      background-color: #E8F0FE;\n",
              "      border: none;\n",
              "      border-radius: 50%;\n",
              "      cursor: pointer;\n",
              "      display: none;\n",
              "      fill: #1967D2;\n",
              "      height: 32px;\n",
              "      padding: 0 0 0 0;\n",
              "      width: 32px;\n",
              "    }\n",
              "\n",
              "    .colab-df-convert:hover {\n",
              "      background-color: #E2EBFA;\n",
              "      box-shadow: 0px 1px 2px rgba(60, 64, 67, 0.3), 0px 1px 3px 1px rgba(60, 64, 67, 0.15);\n",
              "      fill: #174EA6;\n",
              "    }\n",
              "\n",
              "    [theme=dark] .colab-df-convert {\n",
              "      background-color: #3B4455;\n",
              "      fill: #D2E3FC;\n",
              "    }\n",
              "\n",
              "    [theme=dark] .colab-df-convert:hover {\n",
              "      background-color: #434B5C;\n",
              "      box-shadow: 0px 1px 3px 1px rgba(0, 0, 0, 0.15);\n",
              "      filter: drop-shadow(0px 1px 2px rgba(0, 0, 0, 0.3));\n",
              "      fill: #FFFFFF;\n",
              "    }\n",
              "  </style>\n",
              "\n",
              "      <script>\n",
              "        const buttonEl =\n",
              "          document.querySelector('#df-9bdefcdf-d956-48a3-86b7-2c1504d8ccd2 button.colab-df-convert');\n",
              "        buttonEl.style.display =\n",
              "          google.colab.kernel.accessAllowed ? 'block' : 'none';\n",
              "\n",
              "        async function convertToInteractive(key) {\n",
              "          const element = document.querySelector('#df-9bdefcdf-d956-48a3-86b7-2c1504d8ccd2');\n",
              "          const dataTable =\n",
              "            await google.colab.kernel.invokeFunction('convertToInteractive',\n",
              "                                                     [key], {});\n",
              "          if (!dataTable) return;\n",
              "\n",
              "          const docLinkHtml = 'Like what you see? Visit the ' +\n",
              "            '<a target=\"_blank\" href=https://colab.research.google.com/notebooks/data_table.ipynb>data table notebook</a>'\n",
              "            + ' to learn more about interactive tables.';\n",
              "          element.innerHTML = '';\n",
              "          dataTable['output_type'] = 'display_data';\n",
              "          await google.colab.output.renderOutput(dataTable, element);\n",
              "          const docLink = document.createElement('div');\n",
              "          docLink.innerHTML = docLinkHtml;\n",
              "          element.appendChild(docLink);\n",
              "        }\n",
              "      </script>\n",
              "    </div>\n",
              "  </div>\n",
              "  "
            ]
          },
          "metadata": {},
          "execution_count": 3
        }
      ]
    },
    {
      "cell_type": "code",
      "source": [
        "likes.liked_user.value_counts().shape"
      ],
      "metadata": {
        "colab": {
          "base_uri": "https://localhost:8080/"
        },
        "id": "6LHW5-EoUfoQ",
        "outputId": "f671e6ee-944f-4d39-b711-565968de0ec1"
      },
      "execution_count": null,
      "outputs": [
        {
          "output_type": "execute_result",
          "data": {
            "text/plain": [
              "(75737,)"
            ]
          },
          "metadata": {},
          "execution_count": 6
        }
      ]
    },
    {
      "cell_type": "code",
      "source": [
        "likes.investor.value_counts().shape"
      ],
      "metadata": {
        "colab": {
          "base_uri": "https://localhost:8080/"
        },
        "id": "G-XqNMtIoPMN",
        "outputId": "ab84129f-01f4-401d-d9c3-3378ece60711"
      },
      "execution_count": null,
      "outputs": [
        {
          "output_type": "execute_result",
          "data": {
            "text/plain": [
              "(319,)"
            ]
          },
          "metadata": {},
          "execution_count": 7
        }
      ]
    },
    {
      "cell_type": "code",
      "source": [
        "likes.organization.value_counts().shape"
      ],
      "metadata": {
        "colab": {
          "base_uri": "https://localhost:8080/"
        },
        "id": "e0b2xc4OThWl",
        "outputId": "3a0d7ac2-cc5f-450d-c111-b90b1a82988b"
      },
      "execution_count": null,
      "outputs": [
        {
          "output_type": "execute_result",
          "data": {
            "text/plain": [
              "(27,)"
            ]
          },
          "metadata": {},
          "execution_count": 8
        }
      ]
    },
    {
      "cell_type": "code",
      "source": [
        "unique_investors_list = likes.investor.unique()\n",
        "unique_liked_users_list = likes.liked_user.unique()\n",
        "print(len(set(unique_liked_users_list)&set(unique_investors_list)))"
      ],
      "metadata": {
        "colab": {
          "base_uri": "https://localhost:8080/"
        },
        "id": "nqippDQQosPV",
        "outputId": "6a20f01c-60f7-4116-add4-e554bdc9a391"
      },
      "execution_count": null,
      "outputs": [
        {
          "output_type": "stream",
          "name": "stdout",
          "text": [
            "267\n"
          ]
        }
      ]
    },
    {
      "cell_type": "code",
      "source": [
        "sum(likes.liked_user.value_counts() >= 50)"
      ],
      "metadata": {
        "colab": {
          "base_uri": "https://localhost:8080/"
        },
        "id": "ZZgLnEkgtrjV",
        "outputId": "f71c1b91-1b32-4b2a-d0be-bf621f3ebb35"
      },
      "execution_count": null,
      "outputs": [
        {
          "output_type": "execute_result",
          "data": {
            "text/plain": [
              "170"
            ]
          },
          "metadata": {},
          "execution_count": 10
        }
      ]
    },
    {
      "cell_type": "markdown",
      "source": [
        "# __Comments Dataset__"
      ],
      "metadata": {
        "id": "zLwWejPqyGKj"
      }
    },
    {
      "cell_type": "code",
      "source": [
        "comments = pd.read_csv(\"Twitter comments.csv\")\n",
        "comments = comments.drop_duplicates()\n",
        "comments.shape"
      ],
      "metadata": {
        "colab": {
          "base_uri": "https://localhost:8080/"
        },
        "id": "n4iu_3Yky_u1",
        "outputId": "14c74647-641e-41b9-ff53-9c14dd9c8916"
      },
      "execution_count": null,
      "outputs": [
        {
          "output_type": "execute_result",
          "data": {
            "text/plain": [
              "(60291, 5)"
            ]
          },
          "metadata": {},
          "execution_count": 11
        }
      ]
    },
    {
      "cell_type": "code",
      "source": [
        "#Data Exploring\n",
        "comments.investor.value_counts().shape"
      ],
      "metadata": {
        "colab": {
          "base_uri": "https://localhost:8080/"
        },
        "outputId": "6d6e7523-5c8d-4338-86d5-a781acb3a507",
        "id": "4dImgQ8N0eAa"
      },
      "execution_count": null,
      "outputs": [
        {
          "output_type": "execute_result",
          "data": {
            "text/plain": [
              "(320,)"
            ]
          },
          "metadata": {},
          "execution_count": 12
        }
      ]
    },
    {
      "cell_type": "code",
      "source": [
        "comments.organization.value_counts().shape"
      ],
      "metadata": {
        "colab": {
          "base_uri": "https://localhost:8080/"
        },
        "outputId": "9b84ddf0-6d1d-4ab8-da1f-2bdd0ecbfed5",
        "id": "PLvl5tCn0eAh"
      },
      "execution_count": null,
      "outputs": [
        {
          "output_type": "execute_result",
          "data": {
            "text/plain": [
              "(27,)"
            ]
          },
          "metadata": {},
          "execution_count": 13
        }
      ]
    },
    {
      "cell_type": "code",
      "source": [
        "comments.commented_user.value_counts().shape"
      ],
      "metadata": {
        "colab": {
          "base_uri": "https://localhost:8080/"
        },
        "outputId": "04e0db9e-5611-465d-a7db-df78b3e0ef40",
        "id": "-e8vZkqc0eAl"
      },
      "execution_count": null,
      "outputs": [
        {
          "output_type": "execute_result",
          "data": {
            "text/plain": [
              "(33797,)"
            ]
          },
          "metadata": {},
          "execution_count": 14
        }
      ]
    },
    {
      "cell_type": "code",
      "source": [],
      "metadata": {
        "id": "tKhMZVrK1xtv"
      },
      "execution_count": null,
      "outputs": []
    },
    {
      "cell_type": "code",
      "source": [
        "unique_investors_list_comments = comments.investor.unique()\n",
        "unique_liked_users_list_comments = comments.commented_user.unique()"
      ],
      "metadata": {
        "colab": {
          "base_uri": "https://localhost:8080/",
          "height": 185
        },
        "outputId": "8eafd1b7-4df7-4105-e26c-1fb1d787f68c",
        "id": "CkoRHxZu0eAp"
      },
      "execution_count": 4,
      "outputs": [
        {
          "output_type": "error",
          "ename": "NameError",
          "evalue": "ignored",
          "traceback": [
            "\u001b[0;31m---------------------------------------------------------------------------\u001b[0m",
            "\u001b[0;31mNameError\u001b[0m                                 Traceback (most recent call last)",
            "\u001b[0;32m<ipython-input-4-8ea256c65ba9>\u001b[0m in \u001b[0;36m<module>\u001b[0;34m\u001b[0m\n\u001b[0;32m----> 1\u001b[0;31m \u001b[0munique_investors_list_comments\u001b[0m \u001b[0;34m=\u001b[0m \u001b[0mcomments\u001b[0m\u001b[0;34m.\u001b[0m\u001b[0minvestor\u001b[0m\u001b[0;34m.\u001b[0m\u001b[0munique\u001b[0m\u001b[0;34m(\u001b[0m\u001b[0;34m)\u001b[0m\u001b[0;34m\u001b[0m\u001b[0;34m\u001b[0m\u001b[0m\n\u001b[0m\u001b[1;32m      2\u001b[0m \u001b[0munique_liked_users_list_comments\u001b[0m \u001b[0;34m=\u001b[0m \u001b[0mcomments\u001b[0m\u001b[0;34m.\u001b[0m\u001b[0mcommented_user\u001b[0m\u001b[0;34m.\u001b[0m\u001b[0munique\u001b[0m\u001b[0;34m(\u001b[0m\u001b[0;34m)\u001b[0m\u001b[0;34m\u001b[0m\u001b[0;34m\u001b[0m\u001b[0m\n",
            "\u001b[0;31mNameError\u001b[0m: name 'comments' is not defined"
          ]
        }
      ]
    },
    {
      "cell_type": "code",
      "source": [
        "sum(comments.commented_user.value_counts() >= 50)"
      ],
      "metadata": {
        "colab": {
          "base_uri": "https://localhost:8080/"
        },
        "outputId": "9048e579-afff-48ac-f93d-c9e648d57558",
        "id": "UOzgkUlF0eAu"
      },
      "execution_count": null,
      "outputs": [
        {
          "output_type": "execute_result",
          "data": {
            "text/plain": [
              "24"
            ]
          },
          "metadata": {},
          "execution_count": 16
        }
      ]
    },
    {
      "cell_type": "markdown",
      "source": [
        "# __Data Exploring Results__\n",
        "\n",
        "---\n",
        "__Twitter Likes__\n",
        "*   Number of Rows of Unique Data: 168,120\n",
        "*   Number of Twitter Investors in Dataset: 319\n",
        "*   Number of Users who have been interacted with: 75,737\n",
        "*   Number of Users who have been interacted with more than 50 times (total): 170\n",
        "  * Note that these are the users we want to focus on for similarity calculations\n",
        "*   Number of Organisations in Dataset: 27\n",
        "*   Number of Investors who are also liked users: 267 \n",
        "  * Perhaps graphing these would be good\n",
        "\n",
        "More than 30 likes of a specific user = big fan of one specific user = why?\n",
        "\n",
        "More than 50 total likes = active user = more accurate data\n",
        "\n",
        "---\n",
        "__Twitter Comments (NOT UP TO DATE)__\n",
        "\n",
        "*   Number of Rows of Unique Data: 60, 291\n",
        "*   Number of Twitter Investors in Dataset: 320\n",
        "*   Number of Users who have been interacted with: 33,797\n",
        "*   Number of Users who have been interacted with more than 50 times: 25\n",
        "  * Note that these are the users we want to focus on as \"neighbours\"\n",
        "*   Number of Organisations in Dataset: 27\n",
        "*   Number of Investors who are also users that have been commented on: 2430\n",
        "*   Number of Investors who have more than 50 interactions (active investors): (NOT UP TO DaTE)"
      ],
      "metadata": {
        "id": "A9ZCa_4NQYwM"
      }
    },
    {
      "cell_type": "markdown",
      "source": [
        "# N-Nearest Neighbours (Comments)\n",
        "Iteration on algorithms by J. Piskorz"
      ],
      "metadata": {
        "id": "nN2FJsI7x4Zx"
      }
    },
    {
      "cell_type": "code",
      "source": [
        "\"\"\"\n",
        "Return for a pair of investors, the list of common liked or commented users\n",
        "\n",
        "Parameters\n",
        "---\n",
        "investor_1: str\n",
        "  Username of the first investor that the function analyses\n",
        "investor_2: str\n",
        "  Username of the second investor that the function analyses\n",
        "\n",
        "\n",
        "Other things to consider that could be added as a parameter:\n",
        "  Is the common user also an investor?\n",
        "  Is the common user someone who has been interacted greater than x number of times?\n",
        "\"\"\"\n",
        "\n",
        "def liked_together(investor_1, investor_2,data):\n",
        "  data = data\n",
        "\n",
        "  #List of names of users that investor 1 and investor 2 has interacted with\n",
        "  investor1_liked = data.loc[data[\"investor\"] == investor_1].liked_user.unique()\n",
        "  investor2_liked = data.loc[data[\"investor\"] == investor_2].liked_user.unique()\n",
        "\n",
        "  #List of users who have been interacted with by the two investors\n",
        "  matchlikedusers = set(investor1_liked).intersection(investor2_liked)\n",
        "\n",
        "  return matchlikedusers\n",
        "\n",
        "def not_liked_together(investor_1, investor_2,data):\n",
        "  data = data\n",
        "\n",
        "  investor1_liked = data.loc[data[\"investor\"] == investor_1].liked_user.unique()\n",
        "  investor2_liked = data.loc[data[\"investor\"] == investor_2].liked_user.unique()\n",
        "\n",
        "  otherlikedusers = set(investor1_liked).difference(investor2_liked)\n",
        "\n",
        "  return otherlikedusers"
      ],
      "metadata": {
        "id": "kQUivyVDTPGu"
      },
      "execution_count": 135,
      "outputs": []
    },
    {
      "cell_type": "code",
      "source": [
        "#For a given two investors who have both invested in a given user, the distance between them is given by subtracting the count of each\n",
        "#n.b This function will throw an error if the user is not liked by both investors - which is fine in our case\n",
        "\n",
        "def distance(investor_1, investor_2, user,data):\n",
        "    data = data\n",
        "    count_1 = data[(data['investor']== investor_1) & (data['liked_user']== user)][\"count\"].item()\n",
        "    count_2 = data[(data['investor']== investor_2) & (data['liked_user']== user)][\"count\"].item()\n",
        "\n",
        "    dist = abs(count_1-count_2)\n",
        "    return dist\n"
      ],
      "metadata": {
        "id": "Fgb4meTNsoZY"
      },
      "execution_count": 144,
      "outputs": []
    },
    {
      "cell_type": "markdown",
      "source": [
        "Functionality to be added for n_nearest_neighbours:\n",
        "*   (Done) Ability to go off of ivestor name\n",
        "*   Organisation to investor similarity and vice versa\n",
        "  *  (DONE) Cumulate similar users who have been liked \n",
        "* (DONE) investor_list - only consider similarity between investor and investor in list\n"
      ],
      "metadata": {
        "id": "xc5VfYF24q16"
      }
    },
    {
      "cell_type": "code",
      "source": [
        "#aggregation Sequoia Capital\n",
        "\n",
        "organization_data = likes.drop(columns=[\"investor_name\",\"investor\"]).groupby(likes[\"liked_user\"], as_index=False).agg({\"organization\":\"first\",\"liked_user\":\"first\", \"count\":\"sum\"})\n",
        "find_val = organization_data.loc[(organization_data.organization == \"Foundry Group\") & (organization_data.liked_user == \"yoavlurie\")]\n",
        "print(find_val)"
      ],
      "metadata": {
        "colab": {
          "base_uri": "https://localhost:8080/"
        },
        "id": "0U2KHIO4nWa6",
        "outputId": "a712ba53-e876-428f-ea88-f83b0b73c513"
      },
      "execution_count": 138,
      "outputs": [
        {
          "output_type": "stream",
          "name": "stdout",
          "text": [
            "        organization liked_user  count\n",
            "75204  Foundry Group  yoavlurie    176\n"
          ]
        }
      ]
    },
    {
      "cell_type": "code",
      "source": [
        "\"\"\"\n",
        "Finds N most similar investors to user specified constraints.\n",
        "\n",
        "Parameters\n",
        "---\n",
        "\n",
        "Investor: Str\n",
        "  The name of the Investor for which neighbours are which to be computed\n",
        "N: Int\n",
        "  The number of nearest neighbours to be computed\n",
        "Similarity: str or list\n",
        "  If str:\n",
        "    Function used to compute the similarity between investors.\n",
        "        - \"jacc\": jaccard similarity\n",
        "        - \"cond\": conditional probability-based similarity\n",
        "        - \"abs\": total number of users co-interacted\n",
        "        - \"count_sim\": similarity which is inversly proportional to the distance between the investors specified using 'count_scale' and note that this \n",
        "Min_no_likes: int\n",
        "  Only consider users which have at least minimum number of likes by specific user or total - not sure yet which one to use\n",
        "sim_func: function\n",
        "  The function used to convert the distance into a similarity measure on a [0, 1] interval when using like similarity as a similarity measure.\n",
        "investors_list: list or ()\n",
        "  If (): consider all the investors in the dataset\n",
        "        Otherwise: only consider the similarity between the VC and the investors in the list\n",
        "\"\"\"\n",
        "\n",
        "def n_nearest_neighbours(investor_name, n=10, similarity=\"jacc\", min_no_total_likes=400, sim_func=\"default\", investors_list=(), min_user_likes=7):\n",
        "  data = likes[likes[\"count\"] >=min_user_likes]\n",
        "  organization_data = likes.drop(columns=[\"investor_name\",\"investor\"]).groupby(likes[\"liked_user\"], as_index=False).agg({\"organization\":\"first\",\"liked_user\":\"first\", \"count\":\"sum\"})\n",
        "\n",
        "  #n_neighbours_df = n_nearest_neighbours(investor_un, n=n, similarity=similarity, min_no_likes = min_no_likes, sim_func  = sim_func)\n",
        "\n",
        "  #if scale == 'default':\n",
        "     # print(\"hi\")\n",
        "\n",
        "  if sim_func == \"default\":\n",
        "    def sim_func(x):\n",
        "        return(1/(1+x))\n",
        "  \n",
        "  #Make allowance for data being given as name and output as name\n",
        "  investor_un = data.loc[data.investor_name == investor_name, \"investor\"].head(1).item()\n",
        "\n",
        "  if investors_list:\n",
        "    data = [data.loc[data.investor_name == i, \"investor\"].head(1).item() for i in investors_list]\n",
        "\n",
        "  #List all investors has interacted with\n",
        "  \n",
        "  investor_array = data.groupby(data[\"investor\"],as_index=False).agg({\"investor\":\"first\", \"count\":\"sum\"})\n",
        "  investor_array = np.array(investor_array[investor_array[\"count\"]>=min_no_total_likes].investor.unique())\n",
        "  #Investors who have more than min_no_total_likes interactions total\n",
        "  investor_array = investor_array[investor_array != investor_un] #List of Investors that do not include investor of interest\n",
        "  investor_array_names = [data.loc[data.investor == i, \"investor_name\"].head(1).item() for i in investor_array]\n",
        "\n",
        "  #investor_name = investor_name\n",
        "\n",
        "  #Computing similarities\n",
        "  investor_interactions =[]\n",
        "  for i in range(len(investor_array)):\n",
        "    investor_interactions.append(data.loc[data.investor == investor_array[i],\"count\"].sum())                       \n",
        "  similarity_df = pd.DataFrame({\"Count\": investor_interactions}, index=investor_array_names)\n",
        "\n",
        "  ind = 1\n",
        "  if type(similarity) == str:  \n",
        "    similarity = [similarity]\n",
        "\n",
        "  for sim in similarity:\n",
        "\n",
        "    if sim == \"jacc\": #counts have not been factored into this.\n",
        "      sim_vector = [len(liked_together(investor_un,i,data))/(len(not_liked_together(investor_un,i,data))+len(liked_together(investor_un,i,data))) for i in investor_array]\n",
        "\n",
        "    elif sim == \"cond\": #Counts have not been factored into this\n",
        "      #Conditional probability that investor has liked a given user given that another investor has already liked them\n",
        "      sim_vector = [len(liked_together(investor_un,i,data))/(len(data.loc[data[\"investor\"] == i].liked_user.unique())) for i in investor_array]\n",
        "\n",
        "    elif sim == \"abs\": #counts have not been factored into this\n",
        "      #Count the number of uesers that investor A and investor B have liked together\n",
        "      sim_vector = [len(liked_together(investor_un,i,data)) for i in investor_array]\n",
        "\n",
        "    elif sim == \"count_sim\":\n",
        "      \"Two investors are more similar if they liked a user a similar nmber of times.\"\n",
        "      sim_vector = np.zeros(len(investor_array))\n",
        "      dist = []\n",
        "      total_dist = 0\n",
        "      for i in range(len(investor_array)):\n",
        "        together = liked_together(investor_un, investor_array[i], data)\n",
        "        if together == 0:\n",
        "          sim_vector[i] = 0\n",
        "        elif together !=0:\n",
        "          for u in together: # for a given user in the list of users that have been liked by two investors\n",
        "            dist.append(distance(investor_un, investor_array[i], u,data))\n",
        "            ave_dist = sum(dist)/len(together)\n",
        "            sim_vector[i] = sim_func(ave_dist)  \n",
        "\n",
        "    new_sim_df = pd.DataFrame({sim: sim_vector}, index=investor_array_names)\n",
        "    similarity_df = similarity_df.join(new_sim_df)\n",
        "    \n",
        "    #if ind == 1:\n",
        "     #   similarity_df = similarity_df.sort_values(by=similarity[0], ascending=False).head(n)\n",
        "     #   investors_top = list(similarity_df.index)\n",
        "     #   investor_array = [invested_list[list(investors).index(x)] for x in investors_top]\n",
        "    #    investors = investors_top.copy()\n",
        "    #    ind += 1\n",
        "  similarity_df = similarity_df.sort_values(by=similarity_df.columns[1], ascending=False).head(n)\n",
        "\n",
        "  return similarity_df\n"
      ],
      "metadata": {
        "id": "TEzISVQWhSnZ"
      },
      "execution_count": 153,
      "outputs": []
    },
    {
      "cell_type": "markdown",
      "source": [
        "__Example Return__"
      ],
      "metadata": {
        "id": "DxgOLM7hA1HY"
      }
    },
    {
      "cell_type": "code",
      "source": [
        "n_nearest_neighbours(\"Matt Miller\", similarity = (\"abs\",\"cond\",\"jacc\",\"count_sim\"), min_no_total_likes = 500, min_user_likes = 0)"
      ],
      "metadata": {
        "colab": {
          "base_uri": "https://localhost:8080/",
          "height": 363
        },
        "id": "OyCjqryFA0Mf",
        "outputId": "cbc6c266-d77a-445e-a69f-7bb2049ec96b"
      },
      "execution_count": 156,
      "outputs": [
        {
          "output_type": "execute_result",
          "data": {
            "text/plain": [
              "                   Count  abs      cond      jacc  count_sim\n",
              "Patrick Grady       1964   69  0.104230  0.160839   0.006610\n",
              "Roelof Botha        1966   56  0.085890  0.130536   0.002782\n",
              "Vipin Chamakkala    1923   55  0.086888  0.128205   0.002198\n",
              "Stephanie Zhan      1942   50  0.059312  0.116550   0.002042\n",
              "Bogomil Balkansky   1710   50  0.108460  0.116550   0.066225\n",
              "Andrew Reed         1947   49  0.065421  0.114219   0.012475\n",
              "Josh Coyne          1971   49  0.077287  0.114219   0.003559\n",
              "Bryan Schreier       613   47  0.164912  0.109557   0.002109\n",
              "Jess Lee            1965   47  0.057039  0.109557   0.003617\n",
              "Dannie Herzberg     1964   46  0.091633  0.107226   0.005838"
            ],
            "text/html": [
              "\n",
              "  <div id=\"df-83a6505a-8b79-4fe1-b8ce-b8757689e26d\">\n",
              "    <div class=\"colab-df-container\">\n",
              "      <div>\n",
              "<style scoped>\n",
              "    .dataframe tbody tr th:only-of-type {\n",
              "        vertical-align: middle;\n",
              "    }\n",
              "\n",
              "    .dataframe tbody tr th {\n",
              "        vertical-align: top;\n",
              "    }\n",
              "\n",
              "    .dataframe thead th {\n",
              "        text-align: right;\n",
              "    }\n",
              "</style>\n",
              "<table border=\"1\" class=\"dataframe\">\n",
              "  <thead>\n",
              "    <tr style=\"text-align: right;\">\n",
              "      <th></th>\n",
              "      <th>Count</th>\n",
              "      <th>abs</th>\n",
              "      <th>cond</th>\n",
              "      <th>jacc</th>\n",
              "      <th>count_sim</th>\n",
              "    </tr>\n",
              "  </thead>\n",
              "  <tbody>\n",
              "    <tr>\n",
              "      <th>Patrick Grady</th>\n",
              "      <td>1964</td>\n",
              "      <td>69</td>\n",
              "      <td>0.104230</td>\n",
              "      <td>0.160839</td>\n",
              "      <td>0.006610</td>\n",
              "    </tr>\n",
              "    <tr>\n",
              "      <th>Roelof Botha</th>\n",
              "      <td>1966</td>\n",
              "      <td>56</td>\n",
              "      <td>0.085890</td>\n",
              "      <td>0.130536</td>\n",
              "      <td>0.002782</td>\n",
              "    </tr>\n",
              "    <tr>\n",
              "      <th>Vipin Chamakkala</th>\n",
              "      <td>1923</td>\n",
              "      <td>55</td>\n",
              "      <td>0.086888</td>\n",
              "      <td>0.128205</td>\n",
              "      <td>0.002198</td>\n",
              "    </tr>\n",
              "    <tr>\n",
              "      <th>Stephanie Zhan</th>\n",
              "      <td>1942</td>\n",
              "      <td>50</td>\n",
              "      <td>0.059312</td>\n",
              "      <td>0.116550</td>\n",
              "      <td>0.002042</td>\n",
              "    </tr>\n",
              "    <tr>\n",
              "      <th>Bogomil Balkansky</th>\n",
              "      <td>1710</td>\n",
              "      <td>50</td>\n",
              "      <td>0.108460</td>\n",
              "      <td>0.116550</td>\n",
              "      <td>0.066225</td>\n",
              "    </tr>\n",
              "    <tr>\n",
              "      <th>Andrew Reed</th>\n",
              "      <td>1947</td>\n",
              "      <td>49</td>\n",
              "      <td>0.065421</td>\n",
              "      <td>0.114219</td>\n",
              "      <td>0.012475</td>\n",
              "    </tr>\n",
              "    <tr>\n",
              "      <th>Josh Coyne</th>\n",
              "      <td>1971</td>\n",
              "      <td>49</td>\n",
              "      <td>0.077287</td>\n",
              "      <td>0.114219</td>\n",
              "      <td>0.003559</td>\n",
              "    </tr>\n",
              "    <tr>\n",
              "      <th>Bryan Schreier</th>\n",
              "      <td>613</td>\n",
              "      <td>47</td>\n",
              "      <td>0.164912</td>\n",
              "      <td>0.109557</td>\n",
              "      <td>0.002109</td>\n",
              "    </tr>\n",
              "    <tr>\n",
              "      <th>Jess Lee</th>\n",
              "      <td>1965</td>\n",
              "      <td>47</td>\n",
              "      <td>0.057039</td>\n",
              "      <td>0.109557</td>\n",
              "      <td>0.003617</td>\n",
              "    </tr>\n",
              "    <tr>\n",
              "      <th>Dannie Herzberg</th>\n",
              "      <td>1964</td>\n",
              "      <td>46</td>\n",
              "      <td>0.091633</td>\n",
              "      <td>0.107226</td>\n",
              "      <td>0.005838</td>\n",
              "    </tr>\n",
              "  </tbody>\n",
              "</table>\n",
              "</div>\n",
              "      <button class=\"colab-df-convert\" onclick=\"convertToInteractive('df-83a6505a-8b79-4fe1-b8ce-b8757689e26d')\"\n",
              "              title=\"Convert this dataframe to an interactive table.\"\n",
              "              style=\"display:none;\">\n",
              "        \n",
              "  <svg xmlns=\"http://www.w3.org/2000/svg\" height=\"24px\"viewBox=\"0 0 24 24\"\n",
              "       width=\"24px\">\n",
              "    <path d=\"M0 0h24v24H0V0z\" fill=\"none\"/>\n",
              "    <path d=\"M18.56 5.44l.94 2.06.94-2.06 2.06-.94-2.06-.94-.94-2.06-.94 2.06-2.06.94zm-11 1L8.5 8.5l.94-2.06 2.06-.94-2.06-.94L8.5 2.5l-.94 2.06-2.06.94zm10 10l.94 2.06.94-2.06 2.06-.94-2.06-.94-.94-2.06-.94 2.06-2.06.94z\"/><path d=\"M17.41 7.96l-1.37-1.37c-.4-.4-.92-.59-1.43-.59-.52 0-1.04.2-1.43.59L10.3 9.45l-7.72 7.72c-.78.78-.78 2.05 0 2.83L4 21.41c.39.39.9.59 1.41.59.51 0 1.02-.2 1.41-.59l7.78-7.78 2.81-2.81c.8-.78.8-2.07 0-2.86zM5.41 20L4 18.59l7.72-7.72 1.47 1.35L5.41 20z\"/>\n",
              "  </svg>\n",
              "      </button>\n",
              "      \n",
              "  <style>\n",
              "    .colab-df-container {\n",
              "      display:flex;\n",
              "      flex-wrap:wrap;\n",
              "      gap: 12px;\n",
              "    }\n",
              "\n",
              "    .colab-df-convert {\n",
              "      background-color: #E8F0FE;\n",
              "      border: none;\n",
              "      border-radius: 50%;\n",
              "      cursor: pointer;\n",
              "      display: none;\n",
              "      fill: #1967D2;\n",
              "      height: 32px;\n",
              "      padding: 0 0 0 0;\n",
              "      width: 32px;\n",
              "    }\n",
              "\n",
              "    .colab-df-convert:hover {\n",
              "      background-color: #E2EBFA;\n",
              "      box-shadow: 0px 1px 2px rgba(60, 64, 67, 0.3), 0px 1px 3px 1px rgba(60, 64, 67, 0.15);\n",
              "      fill: #174EA6;\n",
              "    }\n",
              "\n",
              "    [theme=dark] .colab-df-convert {\n",
              "      background-color: #3B4455;\n",
              "      fill: #D2E3FC;\n",
              "    }\n",
              "\n",
              "    [theme=dark] .colab-df-convert:hover {\n",
              "      background-color: #434B5C;\n",
              "      box-shadow: 0px 1px 3px 1px rgba(0, 0, 0, 0.15);\n",
              "      filter: drop-shadow(0px 1px 2px rgba(0, 0, 0, 0.3));\n",
              "      fill: #FFFFFF;\n",
              "    }\n",
              "  </style>\n",
              "\n",
              "      <script>\n",
              "        const buttonEl =\n",
              "          document.querySelector('#df-83a6505a-8b79-4fe1-b8ce-b8757689e26d button.colab-df-convert');\n",
              "        buttonEl.style.display =\n",
              "          google.colab.kernel.accessAllowed ? 'block' : 'none';\n",
              "\n",
              "        async function convertToInteractive(key) {\n",
              "          const element = document.querySelector('#df-83a6505a-8b79-4fe1-b8ce-b8757689e26d');\n",
              "          const dataTable =\n",
              "            await google.colab.kernel.invokeFunction('convertToInteractive',\n",
              "                                                     [key], {});\n",
              "          if (!dataTable) return;\n",
              "\n",
              "          const docLinkHtml = 'Like what you see? Visit the ' +\n",
              "            '<a target=\"_blank\" href=https://colab.research.google.com/notebooks/data_table.ipynb>data table notebook</a>'\n",
              "            + ' to learn more about interactive tables.';\n",
              "          element.innerHTML = '';\n",
              "          dataTable['output_type'] = 'display_data';\n",
              "          await google.colab.output.renderOutput(dataTable, element);\n",
              "          const docLink = document.createElement('div');\n",
              "          docLink.innerHTML = docLinkHtml;\n",
              "          element.appendChild(docLink);\n",
              "        }\n",
              "      </script>\n",
              "    </div>\n",
              "  </div>\n",
              "  "
            ]
          },
          "metadata": {},
          "execution_count": 156
        }
      ]
    },
    {
      "cell_type": "markdown",
      "source": [
        "# __Graph View of n_nearest neighbours__"
      ],
      "metadata": {
        "id": "IM0ALQ8g3Vp9"
      }
    },
    {
      "cell_type": "code",
      "source": [
        "import networkx as nx\n",
        "import matplotlib as mpl\n",
        "from sklearn.manifold import MDS"
      ],
      "metadata": {
        "id": "oyUZEk1x4ICs"
      },
      "execution_count": 58,
      "outputs": []
    },
    {
      "cell_type": "markdown",
      "source": [
        "Functionality to be added to plot:\n",
        "* Ability to specify organisation plot\n",
        "* Ability to specify organisation to investor similarity"
      ],
      "metadata": {
        "id": "r7wuNqC65uxD"
      }
    },
    {
      "cell_type": "code",
      "source": [
        "\"\"\"\n",
        "Finds n most similar investors to given investor under the specified constrains and plots them onto a network graphs. \n",
        "Distances between nodes are based on the absolute similarity. \n",
        "Node sizes indicate total number of interactions by a given user\n",
        "Edge colours indicate the spceifid similarity matrix between investor and neighbours.\n",
        "\n",
        "Paramaters:\n",
        "\n",
        "Investor: Str\n",
        "  The name of the Investor for which neighbours are which to be computed\n",
        "N: Int\n",
        "  The number of nearest neighbours to be computed\n",
        "Similarity: str or list\n",
        "  If str:\n",
        "    Function used to compute the similarity between investors.\n",
        "        - \"jacc\": jaccard similarity\n",
        "        - \"cond\": conditional probability-based similarity\n",
        "        - \"abs\": total number of users co-interacted\n",
        "        - \"count_sim\": similarity which is inversly proportional to the distance between the investors specified using 'count_scale' and note that this \n",
        "Min_no_likes: int\n",
        "  Only consider users which have at least minimum number of likes by specific user or total - not sure yet which one to use\n",
        "sim_func: function\n",
        "  The function used to convert the distance into a similarity measure on a [0, 1] interval when using like similarity as a similarity measure.\n",
        "save: bool\n",
        "  If true, save plot as a png\n",
        "\"\"\"\n",
        "\n",
        "def plot_n_nearest_neighbours(investor_name, n=10, similarity=\"jacc\", min_no_total_likes=50, sim_func=\"default\", save=False, min_user_likes=5):\n",
        "\n",
        "  data = likes[likes[\"count\"] >=min_user_likes]\n",
        "\n",
        "  if similarity == \"abs\":\n",
        "      raise Exception(\"Use a different similarity measure for plotting the graph!\")\n",
        "\n",
        "  n_neighbours_df = n_nearest_neighbours(investor_name, n=n, min_no_total_likes=min_no_total_likes, sim_func=sim_func, similarity=similarity, min_user_likes=min_user_likes)\n",
        "  n_neighbours_df.head(n)\n",
        "  n_neighbours = [investor_name] + list(n_neighbours_df.index)\n",
        "  neighbours_only = list(n_neighbours_df.index) \n",
        "  similarity_values = np.array(n_neighbours_df[similarity])\n",
        "  normalised_similarity_values = [similarity_values[i]/max(similarity_values) for i in range(len(similarity_values))]\n",
        "\n",
        "  #if sim_func == \"default\":\n",
        "   #   def sim_func(x):\n",
        "    #    return(1/(1+x))\n",
        "  \n",
        "  #names to username so that it can be compared back\n",
        "  investor_un = data.loc[data.investor_name == investor_name, \"investor\"].head(1).item()\n",
        "  n_neighbours_un = [data.loc[data.investor_name == i, \"investor\"].head(1).item() for i in n_neighbours]\n",
        "  n_neighbours_un.insert(0, investor_un)\n",
        "  neighbours_only_un = [data.loc[data.investor_name == i, \"investor\"].head(1).item() for i in neighbours_only]\n",
        "  neighbours_only_names = list(n_neighbours_df.index)\n",
        "\n",
        "  liked_user_list = list([data.loc[data[\"investor\"] == i].liked_user.unique() for i in n_neighbours_un])\n",
        "\n",
        "  #Users who have been liked themselves\n",
        "  liked_back_list = []\n",
        "  allinvestors_list = data.investor.unique()\n",
        "\n",
        "  for i in range(len(neighbours_only_un)):\n",
        "    if neighbours_only_un[i] in allinvestors_list:\n",
        "      likedbylikedinvestor = data.loc[data[\"investor\"] == neighbours_only_un[i]].liked_user.unique()\n",
        "      if investor_un in likedbylikedinvestor:\n",
        "        liked_back_list.append(True)\n",
        "      else:\n",
        "        liked_back_list.append(False)\n",
        "    else:\n",
        "      liked_back_list.append(False)\n",
        "\n",
        "  # Find the position of the nodes based on the number of users who have also been liked by a given investor - this must be true because distance matrix used must be symmetric (and also works better than when bounded for some reason...)\n",
        "  A_sim = np.array([[len(set(liked_user_list[i]) & set(liked_user_list[j])) for i in range(len(n_neighbours))] for j in range(len(n_neighbours))])\n",
        "\n",
        "  B = A_sim - np.diag(np.diag(A_sim))\n",
        "  A_dist = np.ones(A_sim.shape)*B.max()*1.1  - A_sim\n",
        "  A_dist -= np.diag(np.diag(A_dist))\n",
        "  \n",
        "  mds = MDS(n_components=2, metric=False, dissimilarity='precomputed', n_init=20, max_iter=600)\n",
        "  transformed_neighbours = mds.fit_transform(A_dist)\n",
        "  transformed_neighbours -= transformed_neighbours[0, :]\n",
        "  positions = dict([(n_neighbours[i], transformed_neighbours[i, :]) for i in range(n+1)])\n",
        "  transformed_neighbours_labels = np.array(transformed_neighbours)\n",
        "  transformed_neighbours_labels[:, 1] += np.sign(transformed_neighbours_labels[:, 1])*0.03\n",
        "  positions_labels = dict([(n_neighbours[i], transformed_neighbours_labels[i, :]) for i in range(n+1)])\n",
        "  \n",
        "  G = nx.DiGraph()\n",
        "  G.add_nodes_from(n_neighbours)\n",
        "  \n",
        "  edges = [(investor_name, n_neighbours[i+1], {\"weight\": normalised_similarity_values[i]}) for i in range(n)]\n",
        "  G.add_edges_from(edges)\n",
        "  \n",
        "  M = len(liked_user_list[0])\n",
        "  node_sizes = np.array([M] + list(n_neighbours_df[\"Count\"]))\n",
        "  node_sizes = 10 + 400*node_sizes/node_sizes.max()\n",
        "  node_sizeforplot = node_sizes\n",
        "  edge_colors = list(normalised_similarity_values)\n",
        "  cmap = plt.cm.PuRd\n",
        "\n",
        "  positions_new = positions.copy()\n",
        "  labels_new = positions_labels.copy()\n",
        "  sizes_new = np.array([node_sizes[0]])\n",
        "  new_colours = np.array([edge_colors[0]])\n",
        "  n_neighbours_liked = []\n",
        "  new_similarity = []\n",
        "\n",
        "  for i in range(len(liked_back_list)):\n",
        "    if liked_back_list[i] == True:\n",
        "      n_neighbours_liked.append(neighbours_only_names[i])\n",
        "      new_similarity.append(normalised_similarity_values[i])\n",
        "      edge_colors = np.append(edge_colors, edge_colors[i])\n",
        "      node_sizes = np.append(node_sizes, node_sizes[i])\n",
        "  print(n_neighbours_liked)\n",
        "  #Gnew = nx.DiGraph()\n",
        "  #Gnew.add_nodes_from(n_neighbours_liked)\n",
        "\n",
        "  edges_new = [(n_neighbours_liked[i], investor_name, {\"weight\": new_similarity[i]}) for i in range(len(n_neighbours_liked))]\n",
        "  G.add_edges_from(edges_new)\n",
        "\n",
        "  nodes = nx.draw_networkx_nodes(G, positions, node_size=node_sizeforplot, edgecolors=([\"blue\"] + [\"indigo\"]*n), linewidths=2, node_color =\"none\" )\n",
        "  #nodes.set_edgecolor([\"blue\"]+[\"indigo\"]*n)\n",
        "\n",
        "  edges = nx.draw_networkx_edges(\n",
        "      G,\n",
        "      positions,\n",
        "      node_size=node_sizes,\n",
        "      arrowstyle=\"->\",\n",
        "      arrowsize=10,\n",
        "      edge_color=edge_colors,\n",
        "      edge_cmap=cmap,\n",
        "      width=2.5,\n",
        "      alpha=0.7,\n",
        "      label=similarity\n",
        "  )\n",
        "\n",
        "  nx.draw_networkx_labels(G, positions_labels, font_size=13, font_color=\"black\", clip_on=False, alpha=0.9)\n",
        "\n",
        "  pc = mpl.collections.PatchCollection(edges, cmap=cmap)\n",
        "  pc.set_array(edge_colors)\n",
        "\n",
        "  #plt.xlim(-1.2, 1.2)\n",
        "  #plt.ylim(-1.2, 1.2)\n",
        "  ax = plt.gca()\n",
        "  ax.set_axis_off()\n",
        "  plt.colorbar(pc, ax=ax)\n",
        "  plt.title(f\"The map of {n} nearest neighbours of {investor_name} based on normalised similarity measure {similarity}\", fontsize=22)\n",
        "  ax.figure.set_size_inches(25 , 25)\n",
        "    \n",
        "  if save:\n",
        "      plt.savefig(f'{investor_un}_{similarity}.png', bbox_inches='tight')\n",
        "    \n",
        "  plt.show()\n",
        "        \n",
        "  A_dist_df = pd.DataFrame(A_dist, index=n_neighbours)\n",
        "  A_dist_df.columns = n_neighbours\n",
        "    \n",
        "  return A_dist_df, n_neighbours_df"
      ],
      "metadata": {
        "id": "71_g71SE3jsI"
      },
      "execution_count": 162,
      "outputs": []
    },
    {
      "cell_type": "markdown",
      "source": [
        "__Example Plot__"
      ],
      "metadata": {
        "id": "H-vJLzZk0aYJ"
      }
    },
    {
      "cell_type": "code",
      "source": [
        "A_dist = plot_n_nearest_neighbours(\"Matt Miller\", similarity = (\"jacc\"), min_no_total_likes = 500, min_user_likes = 0, n=10)"
      ],
      "metadata": {
        "colab": {
          "base_uri": "https://localhost:8080/",
          "height": 1000
        },
        "id": "RR9pyBn7CZs-",
        "outputId": "df04a2bb-52e7-418a-d63e-f4cdb86e556b"
      },
      "execution_count": 163,
      "outputs": [
        {
          "output_type": "stream",
          "name": "stderr",
          "text": [
            "/usr/local/lib/python3.9/dist-packages/sklearn/manifold/_mds.py:299: FutureWarning: The default value of `normalized_stress` will change to `'auto'` in version 1.4. To suppress this warning, manually set the value of `normalized_stress`.\n",
            "  warnings.warn(\n"
          ]
        },
        {
          "output_type": "stream",
          "name": "stdout",
          "text": [
            "['Patrick Grady', 'Roelof Botha', 'Vipin Chamakkala', 'Stephanie Zhan', 'Bogomil Balkansky', 'Andrew Reed', 'Bryan Schreier', 'Jess Lee', 'Dannie Herzberg']\n"
          ]
        },
        {
          "output_type": "display_data",
          "data": {
            "text/plain": [
              "<Figure size 1800x1800 with 2 Axes>"
            ],
            "image/png": "[encoded data removed]"
          },
          "metadata": {
            "needs_background": "light"
          }
        }
      ]
    },
    {
      "cell_type": "code",
      "source": [],
      "metadata": {
        "id": "74lZOZliIYbS"
      },
      "execution_count": null,
      "outputs": []
    }
  ]
}